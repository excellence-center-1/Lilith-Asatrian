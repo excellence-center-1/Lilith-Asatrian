{
  "nbformat": 4,
  "nbformat_minor": 0,
  "metadata": {
    "colab": {
      "provenance": []
    },
    "kernelspec": {
      "name": "python3",
      "display_name": "Python 3"
    }
  },
  "cells": [
    {
      "cell_type": "markdown",
      "metadata": {
        "id": "05IIieaQx_PL"
      },
      "source": [
        "1. Write a function called `rectangle` that takes two integers `m` and `n` as arguments and prints\n",
        "out an $m \\times n$ box consisting of asterisks. \n",
        "\n",
        "  Գրել `rectangle` անունով ֆունկցիա, որը ընդունում է երկու ամբողջ թիվ `m` ու `n`, և տպում է  $m \\times n$ չափսի ուղղանկյուն՝ կազմված աստղանիշերից։"
      ]
    },
    {
      "cell_type": "code",
      "metadata": {
        "id": "IjVw1urbx_Uj",
        "colab": {
          "base_uri": "https://localhost:8080/"
        },
        "outputId": "77216951-252d-43a0-84f9-98a12ca6f15e"
      },
      "source": [
        "def rectange(m, n):\n",
        "  print('*'*n)\n",
        "  for i in range(m-2):\n",
        "    print('*', ' '*(n-4), '*')\n",
        "  print('*'*n)\n",
        "rectange(5,6)"
      ],
      "execution_count": 34,
      "outputs": [
        {
          "output_type": "stream",
          "name": "stdout",
          "text": [
            "******\n",
            "*    *\n",
            "*    *\n",
            "*    *\n",
            "******\n"
          ]
        }
      ]
    },
    {
      "cell_type": "markdown",
      "metadata": {
        "id": "1hNpHC_Zx_aD"
      },
      "source": [
        "2. Write a function called `sum_digits` that is given an integer `num` and returns the sum of the\n",
        "digits of num.\n",
        "\n",
        "  Գրել `sum_digits` անունով ֆունկցիա, որը տրված `num` ամբողջ թվի համար  վերադարձնում է այդ թվի թվանշանների գումարը։"
      ]
    },
    {
      "cell_type": "code",
      "metadata": {
        "id": "RHxUsSIArj6I",
        "colab": {
          "base_uri": "https://localhost:8080/"
        },
        "outputId": "b6352a48-d5e4-47e3-bb1a-d0fe4b72656c"
      },
      "source": [
        "def sum_digits(num):\n",
        "  sum=0\n",
        "  while num/10:\n",
        "    sum+=num%10\n",
        "    num//=10\n",
        "  return sum\n",
        "sum_digits(5789)"
      ],
      "execution_count": 35,
      "outputs": [
        {
          "output_type": "execute_result",
          "data": {
            "text/plain": [
              "29"
            ]
          },
          "metadata": {},
          "execution_count": 35
        }
      ]
    }
  ]
}