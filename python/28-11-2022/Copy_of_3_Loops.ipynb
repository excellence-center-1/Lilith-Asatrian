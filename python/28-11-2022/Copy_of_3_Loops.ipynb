{
  "nbformat": 4,
  "nbformat_minor": 0,
  "metadata": {
    "colab": {
      "provenance": [],
      "toc_visible": true
    },
    "kernelspec": {
      "name": "python3",
      "display_name": "Python 3"
    }
  },
  "cells": [
    {
      "cell_type": "markdown",
      "metadata": {
        "id": "z4vLtD_qNEbL"
      },
      "source": [
        "# while loop"
      ]
    },
    {
      "cell_type": "markdown",
      "metadata": {
        "id": "3uD83xUXMitc"
      },
      "source": [
        "* Python’s **while** statement is the most general iteration construct in the language. \n",
        "\n",
        "* it **repeatedly executes** a block of (normally indented) statements as long\n",
        "as a test at the top keeps evaluating to a **true** value. \n",
        "\n",
        "* it is called a \"loop\" because control\n",
        "keeps looping back to the start of the statement until the test becomes **false**. \n",
        "\n",
        "* When the test becomes **false**, control passes to the statement that follows the while block. \n",
        "\n",
        "* If the test in the beginning is **false**, the body never runs and the **while statement is skipped**."
      ]
    },
    {
      "cell_type": "markdown",
      "metadata": {
        "id": "UE2wQL9oVHRJ"
      },
      "source": [
        "The general format of **while** statements looks like this"
      ]
    },
    {
      "cell_type": "code",
      "metadata": {
        "id": "udPWC0QTVGqR"
      },
      "source": [
        "while test: # Loop test\n",
        "  statements # Loop body  \n",
        "else: # Optional else\n",
        "  statements # Run if didn't exit loop with break"
      ],
      "execution_count": null,
      "outputs": []
    },
    {
      "cell_type": "markdown",
      "metadata": {
        "id": "MsS1HyJvUv-q"
      },
      "source": [
        "Let's understand the basic logic of **while** loop with this example"
      ]
    },
    {
      "cell_type": "code",
      "metadata": {
        "id": "KZXuOnaJMigH",
        "colab": {
          "base_uri": "https://localhost:8080/"
        },
        "outputId": "aa47674a-38b3-4409-9c56-bcbd1d68732b"
      },
      "source": [
        "x = 0\n",
        "while x < 10:\n",
        "  print(x)\n",
        "  x += 1\n",
        "print('Finished!')"
      ],
      "execution_count": null,
      "outputs": [
        {
          "output_type": "stream",
          "name": "stdout",
          "text": [
            "0\n",
            "1\n",
            "2\n",
            "3\n",
            "4\n",
            "5\n",
            "6\n",
            "7\n",
            "8\n",
            "9\n",
            "Finished!\n"
          ]
        }
      ]
    },
    {
      "cell_type": "code",
      "metadata": {
        "id": "AqdjaBYxaHLD"
      },
      "source": [
        "del x"
      ],
      "execution_count": null,
      "outputs": []
    },
    {
      "cell_type": "markdown",
      "metadata": {
        "id": "kzwLbDubXyyd"
      },
      "source": [
        "In the above code we initialize `x=0` otherwise we would get a `NameError`."
      ]
    },
    {
      "cell_type": "code",
      "metadata": {
        "id": "YZLIu2PLIXqf",
        "colab": {
          "base_uri": "https://localhost:8080/"
        },
        "outputId": "8b976ace-c717-444e-9726-319810780b17"
      },
      "source": [
        "# while loop iterates until the condition given to it becomes False\n",
        "condition = 10\n",
        "while condition < 15:\n",
        "    print(condition)\n",
        "    condition = condition + 1"
      ],
      "execution_count": null,
      "outputs": [
        {
          "output_type": "stream",
          "name": "stdout",
          "text": [
            "10\n",
            "11\n",
            "12\n",
            "13\n",
            "14\n"
          ]
        }
      ]
    },
    {
      "cell_type": "code",
      "metadata": {
        "id": "yIhZO-_CIXxQ",
        "colab": {
          "base_uri": "https://localhost:8080/"
        },
        "outputId": "cecde26f-cc88-4850-b59c-5e7d30680ad2"
      },
      "source": [
        "# This is equivalent to the code in above cell\n",
        "condition = 10\n",
        "while condition < 15:\n",
        "    print(condition)\n",
        "    condition += 1"
      ],
      "execution_count": null,
      "outputs": [
        {
          "output_type": "stream",
          "name": "stdout",
          "text": [
            "10\n",
            "11\n",
            "12\n",
            "13\n",
            "14\n"
          ]
        }
      ]
    },
    {
      "cell_type": "code",
      "metadata": {
        "id": "AVAc-SoFTnX5",
        "colab": {
          "base_uri": "https://localhost:8080/"
        },
        "outputId": "c1f4b837-5d14-4725-d8e1-df14ab3ad134"
      },
      "source": [
        "n = 5\n",
        "while n > -3:\n",
        "  n -= 1\n",
        "  print(n, end=' ')\n",
        "  if n == -1:\n",
        "    break\n",
        "else:\n",
        "  print('Loop done.')"
      ],
      "execution_count": null,
      "outputs": [
        {
          "output_type": "stream",
          "name": "stdout",
          "text": [
            "4 3 2 1 0 -1 "
          ]
        }
      ]
    },
    {
      "cell_type": "code",
      "source": [
        "arr = [1,2,4]\n",
        "i = 0\n",
        "while i < len(arr):\n",
        "  if arr[i] == 3:\n",
        "    print(i)\n",
        "    break\n",
        "  i += 1\n",
        "else:\n",
        "  print(\"There is no 3 in arr\")"
      ],
      "metadata": {
        "colab": {
          "base_uri": "https://localhost:8080/"
        },
        "id": "M0tsBUSjEhQj",
        "outputId": "a5bd508f-74f7-4bd4-ddd9-407c525b08e6"
      },
      "execution_count": null,
      "outputs": [
        {
          "output_type": "stream",
          "name": "stdout",
          "text": [
            "There is no 3 in arr\n"
          ]
        }
      ]
    },
    {
      "cell_type": "markdown",
      "metadata": {
        "id": "6Uwxoku2Xy6l"
      },
      "source": [
        "## Infinite Loop"
      ]
    },
    {
      "cell_type": "markdown",
      "metadata": {
        "id": "CN2NPN1cXzAc"
      },
      "source": [
        "When working with **while** loops, sooner or later you will accidentally send Python into a neverending\n",
        "loop. Here is an example:"
      ]
    },
    {
      "cell_type": "code",
      "metadata": {
        "id": "pwvlJmm7XzFk"
      },
      "source": [
        "while True:\n",
        "  print('You need to stop me!')"
      ],
      "execution_count": null,
      "outputs": []
    },
    {
      "cell_type": "markdown",
      "metadata": {
        "id": "qWu5eEXJsg46"
      },
      "source": [
        "## break, continue, pass, loop else\n",
        "\n",
        "* **break**: Jumps out of the closest enclosing loop \n",
        "\n",
        "* **continue**: Jumps to the top of the closest enclosing loop (to the loop's header line)\n",
        "\n",
        "* **pass**: Does nothing at all: it’s an empty statement placeholder\n",
        "\n",
        "* **loop else** block: Runs if and only if the loop is exited normally (i.e., without hitting a **break**)\n",
        "\n",
        "Factoring in break and continue statements, the general format of the while loop looks\n",
        "like this:\n"
      ]
    },
    {
      "cell_type": "code",
      "metadata": {
        "id": "MzREieNlsg-T"
      },
      "source": [
        "while test:\n",
        "  statements\n",
        "  if test:\n",
        "    break # Exit loop now, skip else if present\n",
        "  if test:\n",
        "    continue # Go to top of loop now, to test1\n",
        "else:\n",
        "  statements # Run if we didn't hit a 'break'"
      ],
      "execution_count": null,
      "outputs": []
    },
    {
      "cell_type": "markdown",
      "metadata": {
        "id": "PTwyQnYosmZD"
      },
      "source": [
        "**break** and **continue** statements can appear anywhere inside the **while** (or **for**) loop's\n",
        "body, but they are usually coded further nested in an **if** test to take action in response\n",
        "to some condition."
      ]
    },
    {
      "cell_type": "markdown",
      "metadata": {
        "id": "m0sUVjSdWvKV"
      },
      "source": [
        "## pass"
      ]
    },
    {
      "cell_type": "code",
      "metadata": {
        "id": "YNEibC9xsmgC",
        "colab": {
          "base_uri": "https://localhost:8080/",
          "height": 133
        },
        "outputId": "02cb7d93-1d37-408d-f8ba-0e6834773388"
      },
      "source": [
        "while True:\n",
        "   \n",
        "a = 1"
      ],
      "execution_count": null,
      "outputs": [
        {
          "output_type": "error",
          "ename": "SyntaxError",
          "evalue": "ignored",
          "traceback": [
            "\u001b[0;36m  File \u001b[0;32m\"<ipython-input-11-e056cfb4efbf>\"\u001b[0;36m, line \u001b[0;32m2\u001b[0m\n\u001b[0;31m    \u001b[0m\n\u001b[0m    ^\u001b[0m\n\u001b[0;31mSyntaxError\u001b[0m\u001b[0;31m:\u001b[0m unexpected EOF while parsing\n"
          ]
        }
      ]
    },
    {
      "cell_type": "code",
      "metadata": {
        "id": "i4zlGWurWygW",
        "colab": {
          "base_uri": "https://localhost:8080/",
          "height": 186
        },
        "outputId": "b3f1bc32-0907-4fe0-f94b-b7414b0f681d"
      },
      "source": [
        "while True:\n",
        "  pass # you need to stop this infinite loop\n",
        "\n",
        "a = 1"
      ],
      "execution_count": null,
      "outputs": [
        {
          "output_type": "error",
          "ename": "KeyboardInterrupt",
          "evalue": "ignored",
          "traceback": [
            "\u001b[0;31m---------------------------------------------------------------------------\u001b[0m",
            "\u001b[0;31mKeyboardInterrupt\u001b[0m                         Traceback (most recent call last)",
            "\u001b[0;32m<ipython-input-12-cdc8a9f28b48>\u001b[0m in \u001b[0;36m<module>\u001b[0;34m\u001b[0m\n\u001b[1;32m      1\u001b[0m \u001b[0;32mwhile\u001b[0m \u001b[0;32mTrue\u001b[0m\u001b[0;34m:\u001b[0m\u001b[0;34m\u001b[0m\u001b[0;34m\u001b[0m\u001b[0m\n\u001b[0;32m----> 2\u001b[0;31m   \u001b[0;32mpass\u001b[0m \u001b[0;31m# you need to stop this infinite loop\u001b[0m\u001b[0;34m\u001b[0m\u001b[0;34m\u001b[0m\u001b[0m\n\u001b[0m",
            "\u001b[0;31mKeyboardInterrupt\u001b[0m: "
          ]
        }
      ]
    },
    {
      "cell_type": "code",
      "metadata": {
        "id": "EZkCWuF3NNcJ"
      },
      "source": [],
      "execution_count": null,
      "outputs": []
    },
    {
      "cell_type": "markdown",
      "metadata": {
        "id": "pPENxdkFW8E4"
      },
      "source": [
        "## continue\n",
        "\n",
        "The **continue** statement causes an immediate jump to the top of a loop."
      ]
    },
    {
      "cell_type": "code",
      "metadata": {
        "id": "9EPvg5VMW8Rr",
        "colab": {
          "base_uri": "https://localhost:8080/"
        },
        "outputId": "788a333c-4e8f-4f64-a1e1-c783628ec837"
      },
      "source": [
        "x = 10\n",
        "while x:\n",
        "  x = x - 1 # Or, x -= 1\n",
        "  if x % 2 != 0:\n",
        "    continue # Odd? -- skip print\n",
        "  print(x, end=' ')"
      ],
      "execution_count": null,
      "outputs": [
        {
          "output_type": "stream",
          "name": "stdout",
          "text": [
            "8 6 4 2 0 "
          ]
        }
      ]
    },
    {
      "cell_type": "markdown",
      "metadata": {
        "id": "U_Tt-yQ2smmS"
      },
      "source": [
        "Because **continue** jumps to the top of the loop, you don’t need to nest the **print** statement\n",
        "here inside an **if** test; the **print** is only reached if the **continue** is not run."
      ]
    },
    {
      "cell_type": "markdown",
      "metadata": {
        "id": "ioc6rwreYeoG"
      },
      "source": [
        "This code is the same as the above one."
      ]
    },
    {
      "cell_type": "code",
      "metadata": {
        "id": "4qbb46KtsmsK",
        "colab": {
          "base_uri": "https://localhost:8080/"
        },
        "outputId": "ac4f6aaf-a31b-42f7-ddb9-91e9fbbe6c33"
      },
      "source": [
        "x = 10\n",
        "while x:\n",
        "  x = x-1\n",
        "  if x % 2 == 0: # Even? -- print\n",
        "    print(x, end=' ')"
      ],
      "execution_count": null,
      "outputs": [
        {
          "output_type": "stream",
          "name": "stdout",
          "text": [
            "8 6 4 2 0 "
          ]
        }
      ]
    },
    {
      "cell_type": "code",
      "metadata": {
        "id": "tiahWLuXKcLn",
        "colab": {
          "base_uri": "https://localhost:8080/"
        },
        "outputId": "83418471-8e7c-4da9-a76e-8a9ac3d49e4b"
      },
      "source": [
        "i = 0\n",
        "while i < 6:\n",
        "  i += 1\n",
        "  if i == 3:\n",
        "    continue\n",
        "  print(i)"
      ],
      "execution_count": null,
      "outputs": [
        {
          "output_type": "stream",
          "name": "stdout",
          "text": [
            "1\n",
            "2\n",
            "4\n",
            "5\n",
            "6\n"
          ]
        }
      ]
    },
    {
      "cell_type": "markdown",
      "metadata": {
        "id": "naAgXOn_YohO"
      },
      "source": [
        "## break"
      ]
    },
    {
      "cell_type": "markdown",
      "metadata": {
        "id": "Lroi96RgYo9R"
      },
      "source": [
        "The **break** statement causes an immediate exit from a loop. Because the code that follows\n",
        "it in the loop is not executed if the **break** is reached, you can also sometimes avoid\n",
        "nesting by including a **break**."
      ]
    },
    {
      "cell_type": "code",
      "metadata": {
        "id": "j2CLBRLeYpEC",
        "colab": {
          "base_uri": "https://localhost:8080/"
        },
        "outputId": "755121bf-58c7-48da-9be0-765c7573a5e7"
      },
      "source": [
        "while True:\n",
        "  name = input('Enter name:') \n",
        "  if name == 'stop':\n",
        "    break\n",
        "  age = input('Enter age: ')\n",
        "  print('Hello', name, '=>', int(age) ** 2)"
      ],
      "execution_count": null,
      "outputs": [
        {
          "name": "stdout",
          "output_type": "stream",
          "text": [
            "Enter name:Tigran\n",
            "Enter age: 19\n",
            "Hello Tigran => 361\n",
            "Enter name:stop\n"
          ]
        }
      ]
    },
    {
      "cell_type": "code",
      "metadata": {
        "id": "jQMa8WtcKQD6",
        "colab": {
          "base_uri": "https://localhost:8080/"
        },
        "outputId": "d022e799-95d3-4e21-e1db-323b2fd855b5"
      },
      "source": [
        "i = 1\n",
        "while i < 6:\n",
        "  print(i)\n",
        "  if i == 3:\n",
        "    break\n",
        "  i += 1"
      ],
      "execution_count": null,
      "outputs": [
        {
          "output_type": "stream",
          "name": "stdout",
          "text": [
            "1\n",
            "2\n",
            "3\n"
          ]
        }
      ]
    },
    {
      "cell_type": "code",
      "metadata": {
        "id": "jNFjrAT8HwES",
        "colab": {
          "base_uri": "https://localhost:8080/"
        },
        "outputId": "8a40a04e-f524-43eb-e6b9-a6ce383e2733"
      },
      "source": [
        "i = 0\n",
        "while True:\n",
        "  print(i)\n",
        "  if i == 9:\n",
        "      break\n",
        "  else:\n",
        "      i += 1"
      ],
      "execution_count": null,
      "outputs": [
        {
          "output_type": "stream",
          "name": "stdout",
          "text": [
            "0\n",
            "1\n",
            "2\n",
            "3\n",
            "4\n",
            "5\n",
            "6\n",
            "7\n",
            "8\n",
            "9\n"
          ]
        }
      ]
    },
    {
      "cell_type": "markdown",
      "metadata": {
        "id": "wEB55Ag6YpKX"
      },
      "source": [
        "## Loop else"
      ]
    },
    {
      "cell_type": "markdown",
      "metadata": {
        "id": "Fr3JbticahS6"
      },
      "source": [
        "When combined with the loop **else** clause, the **break** statement can often eliminate the need for the search status flags used in other languages."
      ]
    },
    {
      "cell_type": "markdown",
      "metadata": {
        "id": "IWnXWcSGcQPr"
      },
      "source": [
        "The following\n",
        "piece of code determines whether a positive integer y is prime by searching for factors\n",
        "greater than 1:"
      ]
    },
    {
      "cell_type": "code",
      "metadata": {
        "id": "_IRUU3zNahYu",
        "colab": {
          "base_uri": "https://localhost:8080/"
        },
        "outputId": "282b1dae-61e1-4328-d271-d1ea84f3be3b"
      },
      "source": [
        "y = int(input('Enter a positive integer:'))\n",
        "x = y // 2 # For some y > 1\n",
        "while x > 1:\n",
        "  if y % x == 0: # Remainder\n",
        "    print(y, 'has factor', x)\n",
        "    break # Skip else\n",
        "  x -= 1\n",
        "else: # Normal exit\n",
        "  print(y, 'is prime')"
      ],
      "execution_count": null,
      "outputs": [
        {
          "output_type": "stream",
          "name": "stdout",
          "text": [
            "Enter a positive integer:10\n",
            "10 has factor 5\n"
          ]
        }
      ]
    },
    {
      "cell_type": "markdown",
      "metadata": {
        "id": "FpfvV1yRahd3"
      },
      "source": [
        "Rather than setting a flag to be tested when the loop is exited, it inserts a **break** where\n",
        "a factor is found. This way, the **loop else** clause can assume that it will be executed\n",
        "only if no factor is found; if you don't hit the **break**, the number is prime.\n",
        "\n",
        "The **loop else** clause is also run if the body of the loop is never executed, as you don't\n",
        "run a **break** in that event either; in a **while** loop, this happens if the test in the header\n",
        "is false to begin with."
      ]
    },
    {
      "cell_type": "code",
      "metadata": {
        "id": "eAE8cOVbSj2p",
        "colab": {
          "base_uri": "https://localhost:8080/"
        },
        "outputId": "b97e1ea2-9953-497b-85ed-2a54a639223a"
      },
      "source": [
        "i = 1\n",
        "while i < 6:\n",
        "  print(i)\n",
        "  i += 1\n",
        "  if i == 4:\n",
        "    break\n",
        "else:\n",
        "  print(\"i is no longer less than 6\")"
      ],
      "execution_count": null,
      "outputs": [
        {
          "output_type": "stream",
          "name": "stdout",
          "text": [
            "1\n",
            "2\n",
            "3\n"
          ]
        }
      ]
    },
    {
      "cell_type": "code",
      "metadata": {
        "id": "_MfR3mPl7WcU",
        "colab": {
          "base_uri": "https://localhost:8080/"
        },
        "outputId": "40cde80f-23e9-45fa-82f6-0bac0b247b4a"
      },
      "source": [
        "a = 0\n",
        "while True:\n",
        "  a += 1\n",
        "  print(a)\n",
        "  if a == 4:\n",
        "    break"
      ],
      "execution_count": null,
      "outputs": [
        {
          "output_type": "stream",
          "name": "stdout",
          "text": [
            "1\n",
            "2\n",
            "3\n",
            "4\n"
          ]
        }
      ]
    },
    {
      "cell_type": "code",
      "metadata": {
        "id": "R_jedpa97gKN",
        "colab": {
          "base_uri": "https://localhost:8080/"
        },
        "outputId": "e4f5a326-f716-47f3-a6a0-5fb26d0f59e2"
      },
      "source": [
        "a = 0\n",
        "while a < 4:\n",
        "  a += 1\n",
        "  print(a)"
      ],
      "execution_count": null,
      "outputs": [
        {
          "output_type": "stream",
          "name": "stdout",
          "text": [
            "1\n",
            "2\n",
            "3\n",
            "4\n"
          ]
        }
      ]
    },
    {
      "cell_type": "markdown",
      "metadata": {
        "id": "fO1bX4AZXibF"
      },
      "source": [
        "# Exercises\n",
        "\n",
        "1. Write a program (with a while loop) to print integers from 1 to 10 on the same line separated by a space. "
      ]
    },
    {
      "cell_type": "code",
      "metadata": {
        "id": "6CKZmUURMiSw"
      },
      "source": [
        "x = 1\n",
        "while x <= 10:\n",
        "  print(x, end=' ')\n",
        "  x += 1"
      ],
      "execution_count": null,
      "outputs": []
    },
    {
      "cell_type": "markdown",
      "metadata": {
        "id": "A2_2B8yyMiFQ"
      },
      "source": [
        "2. Write a program that allows the user to enter any number of test scores. The user indicates they are done by entering in a negative number. Print how many of the scores are A's (90 or\n",
        "above). Also print out the average.\n",
        "\n",
        "  Գրել ծրագիր, որը թույլ կտա օգտատիրոջը մուտքագրել ինչ-որ թիվ՝ որպես գնահատական (0-100): Այս գործողություն կատարվում է մինչև բացասական թիվ մուտքագրելը։ Ծրագիրը պետք է հաշվի 90 և ավել գնահատականների քանակը, ինչպես նաև մուտքագրված գնահատականների միջին թվաբանականը։"
      ]
    },
    {
      "cell_type": "code",
      "metadata": {
        "id": "LUWfhtClMh3C",
        "outputId": "c7c67f74-0713-40ce-f58a-f22d32a3cefe",
        "colab": {
          "base_uri": "https://localhost:8080/"
        }
      },
      "source": [
        "totalScore=0\n",
        "scoreCount=0  \n",
        "above90s=0\n",
        "score=int(input('Enter your score: '))\n",
        "while score>=0:\n",
        "  if score<0:\n",
        "    break\n",
        "  scoreCount+=1\n",
        "  totalScore+=score\n",
        "  if score>90:\n",
        "    above90s+=1\n",
        "  score=int(input('Enter your score: '))\n",
        "  \n",
        "print('The average is:', totalScore/scoreCount)\n",
        "print('Scores greater than 90:', above90s)\n",
        "\n",
        "\n",
        "\n",
        "\n",
        "  \n"
      ],
      "execution_count": 9,
      "outputs": [
        {
          "output_type": "stream",
          "name": "stdout",
          "text": [
            "Enter your score: 45\n",
            "Enter your score: 32\n",
            "Enter your score: -3\n",
            "The average is: 38.5\n",
            "Scores greater than 90: 0\n"
          ]
        }
      ]
    },
    {
      "cell_type": "markdown",
      "metadata": {
        "id": "nbLTkomaMhn1"
      },
      "source": [
        "3. Write a program that defines a random number (ամբողջ թիվ) between 1 and 10, then asks the user to enter a guess, if the number is guessed then the program finishes with the following message **Number guessed!**, if not the program continues to run.\n",
        "\n",
        "  Գրել ծրագիր, որը սահմանում է պատահական ամբողջ թիվ 1-ից 10 միջակայքից, այնուհետև թույլ է տալիս օգտատիրոջը մուտքագրել որևէ թիվ՝ որպես գուշակություն․ եթե թիվը գուշակված է, ծրագիրը ավարտվում է գրելով «Number guessed», հակառակ դեպքում՝ շարունակում է աշխատել։"
      ]
    },
    {
      "cell_type": "code",
      "metadata": {
        "id": "HbzntUBaMhaN",
        "outputId": "51e40973-c4c9-4cea-808d-625bc1440a96",
        "colab": {
          "base_uri": "https://localhost:8080/"
        }
      },
      "source": [
        "import random\n",
        "a=random.randint(1, 10)\n",
        "num=int(input(\"your number: \"))\n",
        "while num!=a:\n",
        "  num=int(input(\"your number: \"))\n",
        "print(\"Number guessed\")\n",
        "\n"
      ],
      "execution_count": null,
      "outputs": [
        {
          "output_type": "stream",
          "name": "stdout",
          "text": [
            "your number: 7\n",
            "your number: 8\n",
            "your number: 9\n",
            "your number: 10\n",
            "your number: 1\n",
            "your number: 2\n",
            "your number: 3\n",
            "your number: 4\n",
            "your number: 5\n",
            "your number: 6\n",
            "Number guessed\n"
          ]
        }
      ]
    },
    {
      "cell_type": "markdown",
      "metadata": {
        "id": "WQy9MAV7MgpR"
      },
      "source": [
        "4. Write a Python program that prints all the integer numbers from 0 to 6 except 3 and 6.\n",
        "\n",
        "  Գրել ծրագիր, որը տպում է 0-ից 6 բոլոր ամբողջ թվերը, բացի 3-ից ու 6-ից։"
      ]
    },
    {
      "cell_type": "code",
      "metadata": {
        "id": "5GA2Mfw_IXcM",
        "outputId": "bd62df0b-3b4e-4d23-b89c-6dcda3253b2a",
        "colab": {
          "base_uri": "https://localhost:8080/"
        }
      },
      "source": [
        "x=0\n",
        "while x<6:  \n",
        "  x+=1\n",
        "  if x==3 or x==6:\n",
        "    continue\n",
        "  print(x)\n",
        "\n"
      ],
      "execution_count": null,
      "outputs": [
        {
          "output_type": "stream",
          "name": "stdout",
          "text": [
            "1\n",
            "2\n",
            "4\n",
            "5\n"
          ]
        }
      ]
    },
    {
      "cell_type": "markdown",
      "metadata": {
        "id": "7PvRx3aOLDT7"
      },
      "source": [
        "# for loop"
      ]
    },
    {
      "cell_type": "markdown",
      "metadata": {
        "id": "XJONmtDEK0vC"
      },
      "source": [
        "We have already learnt about **while** loop, now we will learn about the **for** loop, which is designed for stepping through the items in a sequence or other iterable object and running a block of code for each."
      ]
    },
    {
      "cell_type": "markdown",
      "metadata": {
        "id": "SYu29VENK1Eh"
      },
      "source": [
        "* works on strings, lists, tuples, and\n",
        "other built-in iterables\n",
        "* begins with a header line that specifies an assignment target (or\n",
        "targets), along with the object you want to step through."
      ]
    },
    {
      "cell_type": "code",
      "metadata": {
        "id": "8PuH5kArK1K2"
      },
      "source": [
        "for target in object: # Assign object items to target\n",
        "  statements\n",
        "  if test: break # Exit loop now, skip else\n",
        "  if test: continue # Go to top of loop now\n",
        "else:\n",
        "  statements # If we didn't hit a 'break'"
      ],
      "execution_count": null,
      "outputs": []
    },
    {
      "cell_type": "code",
      "metadata": {
        "id": "FlbVtM6KK1P9",
        "colab": {
          "base_uri": "https://localhost:8080/",
          "height": 191
        },
        "outputId": "7b3fecd8-d3b9-40a9-ffd1-ab4ca07c76b2"
      },
      "source": [
        "for num in range(10): # 0, 1, 2, ..., 9\n",
        "  print('Hello')"
      ],
      "execution_count": null,
      "outputs": [
        {
          "output_type": "stream",
          "text": [
            "Hello\n",
            "Hello\n",
            "Hello\n",
            "Hello\n",
            "Hello\n",
            "Hello\n",
            "Hello\n",
            "Hello\n",
            "Hello\n",
            "Hello\n"
          ],
          "name": "stdout"
        }
      ]
    },
    {
      "cell_type": "code",
      "metadata": {
        "id": "uqLcTCqCK1WR",
        "colab": {
          "base_uri": "https://localhost:8080/",
          "height": 139
        },
        "outputId": "ecf96490-3bbb-4d9a-80b5-dd8c209a07e6"
      },
      "source": [
        "for i in range(3):\n",
        "  num = eval(input('Enter a number: '))\n",
        "  print('The square of your number is', num**2)\n",
        "print('The loop is now done.')"
      ],
      "execution_count": null,
      "outputs": [
        {
          "output_type": "stream",
          "text": [
            "Enter a number: 4\n",
            "The square of your number is 16\n",
            "Enter a number: 5\n",
            "The square of your number is 25\n",
            "Enter a number: 6\n",
            "The square of your number is 36\n",
            "The loop is now done.\n"
          ],
          "name": "stdout"
        }
      ]
    },
    {
      "cell_type": "code",
      "metadata": {
        "id": "9jSb6GJQK1bd",
        "colab": {
          "base_uri": "https://localhost:8080/",
          "height": 35
        },
        "outputId": "0f5248d5-1a88-44db-f06c-b2b7a8e18195"
      },
      "source": [
        "for i in range(5):\n",
        "  print(i, end=' ')"
      ],
      "execution_count": null,
      "outputs": [
        {
          "output_type": "stream",
          "text": [
            "0 1 2 3 4 "
          ],
          "name": "stdout"
        }
      ]
    },
    {
      "cell_type": "code",
      "metadata": {
        "id": "B8YIFfDZK1g9",
        "colab": {
          "base_uri": "https://localhost:8080/",
          "height": 69
        },
        "outputId": "bf0ff165-3850-4be2-cece-1f8885ec021e"
      },
      "source": [
        "for i in range(3): # 0, 1, 2\n",
        "  print(i+1, '-- Hello')"
      ],
      "execution_count": null,
      "outputs": [
        {
          "output_type": "stream",
          "text": [
            "1 -- Hello\n",
            "2 -- Hello\n",
            "3 -- Hello\n"
          ],
          "name": "stdout"
        }
      ]
    },
    {
      "cell_type": "markdown",
      "metadata": {
        "id": "7Xr72UiVK1mI"
      },
      "source": [
        "`range` creates a sequence object similar to list.\n",
        "If you provide only 1 argument to `range`, it creates sequence from 0 up to the integer you gave to it. In case of 2 arguments it starts from the first number and goes up to the second one.\n",
        "\n"
      ]
    },
    {
      "cell_type": "code",
      "metadata": {
        "id": "y_MxGQhLK1tR",
        "colab": {
          "base_uri": "https://localhost:8080/",
          "height": 104
        },
        "outputId": "cfd1723d-0a74-4692-a455-bec242a118b1"
      },
      "source": [
        "for i in range(5, 10): # 5, 6, 7, 8, 9\n",
        "  print(i)"
      ],
      "execution_count": null,
      "outputs": [
        {
          "output_type": "stream",
          "text": [
            "5\n",
            "6\n",
            "7\n",
            "8\n",
            "9\n"
          ],
          "name": "stdout"
        }
      ]
    },
    {
      "cell_type": "markdown",
      "metadata": {
        "id": "d-PT6DGlK1y1"
      },
      "source": [
        "We can provide the increment (step size) with the 3rd argument."
      ]
    },
    {
      "cell_type": "code",
      "metadata": {
        "id": "XogY-s3dK14x",
        "colab": {
          "base_uri": "https://localhost:8080/",
          "height": 156
        },
        "outputId": "e8c80bf1-d838-482e-c7a6-5dd5236dedc4"
      },
      "source": [
        "for i in range(5, 20, 2):  # 5, 7, 9, 11, 13, 15, 17, 19\n",
        "  print(i)"
      ],
      "execution_count": null,
      "outputs": [
        {
          "output_type": "stream",
          "text": [
            "5\n",
            "7\n",
            "9\n",
            "11\n",
            "13\n",
            "15\n",
            "17\n",
            "19\n"
          ],
          "name": "stdout"
        }
      ]
    },
    {
      "cell_type": "code",
      "metadata": {
        "id": "oTYU7OsqK1-k",
        "colab": {
          "base_uri": "https://localhost:8080/",
          "height": 35
        },
        "outputId": "a1c927ef-41ca-49d6-a067-e151ed86c803"
      },
      "source": [
        "for i in range(5, 0, -1):\n",
        "  print(i, end=' ')\n",
        "  i += 1\n",
        "print('Finished')"
      ],
      "execution_count": null,
      "outputs": [
        {
          "output_type": "stream",
          "text": [
            "5 4 3 2 1 Finished\n"
          ],
          "name": "stdout"
        }
      ]
    },
    {
      "cell_type": "markdown",
      "metadata": {
        "id": "2iIyX_ksK2EN"
      },
      "source": [
        "We can use any iterable object, such as a `list`, which we will study in more detail later."
      ]
    },
    {
      "cell_type": "code",
      "metadata": {
        "id": "zWO5fFEsK2KQ",
        "colab": {
          "base_uri": "https://localhost:8080/",
          "height": 87
        },
        "outputId": "6e4237c9-5f73-4cc2-9b33-95048191f362"
      },
      "source": [
        "for i in [4, 55, 75, 80]:\n",
        "  print(i+1)"
      ],
      "execution_count": null,
      "outputs": [
        {
          "output_type": "stream",
          "text": [
            "5\n",
            "56\n",
            "76\n",
            "81\n"
          ],
          "name": "stdout"
        }
      ]
    },
    {
      "cell_type": "markdown",
      "metadata": {
        "id": "jPLNnJ7wK2P-"
      },
      "source": [
        "Strings are also iterable objects, so we can also use them with **for** loop."
      ]
    },
    {
      "cell_type": "code",
      "metadata": {
        "id": "M6Ur_snbK2WO",
        "colab": {
          "base_uri": "https://localhost:8080/",
          "height": 35
        },
        "outputId": "adfbfef4-fd18-4e60-9d84-6fd6565f4235"
      },
      "source": [
        "for i in 'hello':\n",
        "  print(i, end = ' ')"
      ],
      "execution_count": null,
      "outputs": [
        {
          "output_type": "stream",
          "text": [
            "h e l l o "
          ],
          "name": "stdout"
        }
      ]
    },
    {
      "cell_type": "markdown",
      "metadata": {
        "id": "j32Qa8kdK2Z6"
      },
      "source": [
        "The same holds for tuples."
      ]
    },
    {
      "cell_type": "code",
      "metadata": {
        "id": "gbJ5i6S7K2g2",
        "colab": {
          "base_uri": "https://localhost:8080/",
          "height": 35
        },
        "outputId": "1c852400-dfc3-4964-af28-3c62a9c8dbba"
      },
      "source": [
        "T = (\"this\", \"is\", \"a\", \"tuple\")\n",
        "for x in T:\n",
        "  print(x, end=' ')"
      ],
      "execution_count": null,
      "outputs": [
        {
          "output_type": "stream",
          "text": [
            "this is a tuple "
          ],
          "name": "stdout"
        }
      ]
    },
    {
      "cell_type": "code",
      "metadata": {
        "id": "Khyo8O3ZK2k0",
        "colab": {
          "base_uri": "https://localhost:8080/",
          "height": 104
        },
        "outputId": "9f9affbe-24f6-43fa-cf39-3d22d29e8294"
      },
      "source": [
        "# combining loops and conditions\n",
        "for i in range(10):\n",
        "  if i % 2 == 0:\n",
        "    print(i)"
      ],
      "execution_count": null,
      "outputs": [
        {
          "output_type": "stream",
          "text": [
            "0\n",
            "2\n",
            "4\n",
            "6\n",
            "8\n"
          ],
          "name": "stdout"
        }
      ]
    },
    {
      "cell_type": "code",
      "metadata": {
        "id": "aury00f0K2vW",
        "colab": {
          "base_uri": "https://localhost:8080/",
          "height": 104
        },
        "outputId": "06a3bd3e-75a6-472a-e1b0-aa128940e467"
      },
      "source": [
        "# breaking loops\n",
        "for i in range(20):\n",
        "  if i == 5:\n",
        "    break\n",
        "  print(i)"
      ],
      "execution_count": null,
      "outputs": [
        {
          "output_type": "stream",
          "text": [
            "0\n",
            "1\n",
            "2\n",
            "3\n",
            "4\n"
          ],
          "name": "stdout"
        }
      ]
    },
    {
      "cell_type": "code",
      "metadata": {
        "id": "uSRlgZbzLi2j",
        "colab": {
          "base_uri": "https://localhost:8080/",
          "height": 35
        },
        "outputId": "dcee306a-c469-42bf-a7ce-27bb95780dd8"
      },
      "source": [
        "# continuing loops\n",
        "for i in range(10):\n",
        "  if i != 5:\n",
        "    continue\n",
        "  print(i)"
      ],
      "execution_count": null,
      "outputs": [
        {
          "output_type": "stream",
          "text": [
            "5\n"
          ],
          "name": "stdout"
        }
      ]
    },
    {
      "cell_type": "code",
      "metadata": {
        "id": "6vnUexFiLi7Z",
        "colab": {
          "base_uri": "https://localhost:8080/",
          "height": 156
        },
        "outputId": "a63f47e7-e872-43f4-fd6e-8bc7203adb88"
      },
      "source": [
        "# for loop also has else clause, similar to while\n",
        "# which executes when no breaks occur in the loop\n",
        "for i in range(10):\n",
        "  print(i)\n",
        "  if i == 7:\n",
        "    break\n",
        "else:\n",
        "  print(\"didn't reach to end\")"
      ],
      "execution_count": null,
      "outputs": [
        {
          "output_type": "stream",
          "text": [
            "0\n",
            "1\n",
            "2\n",
            "3\n",
            "4\n",
            "5\n",
            "6\n",
            "7\n"
          ],
          "name": "stdout"
        }
      ]
    },
    {
      "cell_type": "code",
      "metadata": {
        "id": "suOlab4JLi_2",
        "colab": {
          "base_uri": "https://localhost:8080/",
          "height": 121
        },
        "outputId": "dc6444c9-7cb8-4c2a-b011-ff9c075a4ad1"
      },
      "source": [
        "for i in range(5):\n",
        "  print(i)\n",
        "  if i == 7:\n",
        "    break\n",
        "else:\n",
        "  print(\"reached the end\")"
      ],
      "execution_count": null,
      "outputs": [
        {
          "output_type": "stream",
          "text": [
            "0\n",
            "1\n",
            "2\n",
            "3\n",
            "4\n",
            "reached the end\n"
          ],
          "name": "stdout"
        }
      ]
    },
    {
      "cell_type": "code",
      "metadata": {
        "id": "04rRO-PQLjEK",
        "colab": {
          "base_uri": "https://localhost:8080/",
          "height": 69
        },
        "outputId": "9e472c0f-22a2-4a96-e999-939ef34ca1bb"
      },
      "source": [
        "T = [(1, 2), (3, 4), (5, 6)]\n",
        "for a, b in T: # Tuple assignment at work\n",
        "  print(a, b)"
      ],
      "execution_count": null,
      "outputs": [
        {
          "output_type": "stream",
          "text": [
            "1 2\n",
            "3 4\n",
            "5 6\n"
          ],
          "name": "stdout"
        }
      ]
    },
    {
      "cell_type": "code",
      "metadata": {
        "id": "gW9tfEfULjJ9",
        "colab": {
          "base_uri": "https://localhost:8080/",
          "height": 69
        },
        "outputId": "a7c725cf-db85-42b8-c737-cdf5062eb30e"
      },
      "source": [
        "for both in T: # Manual assignment equivalent\n",
        "  a, b = both\n",
        "  print(a, b)"
      ],
      "execution_count": null,
      "outputs": [
        {
          "output_type": "stream",
          "text": [
            "1 2\n",
            "3 4\n",
            "5 6\n"
          ],
          "name": "stdout"
        }
      ]
    },
    {
      "cell_type": "markdown",
      "metadata": {
        "id": "dgEkfow-LjNv"
      },
      "source": [
        "## Counting \n",
        "\n",
        "Very often we want our programs to count how many times something happens. The key to counting is to use a variable\n",
        "to keep the count.\n",
        "\n",
        "For example, this program gets 10 numbers from the user and counts how many of those numbers\n",
        "are greater than 10."
      ]
    },
    {
      "cell_type": "code",
      "metadata": {
        "id": "Q7859jZ2LjTW",
        "colab": {
          "base_uri": "https://localhost:8080/",
          "height": 208
        },
        "outputId": "5ca2b244-3fa9-4d93-b12b-8494b18eb4b3"
      },
      "source": [
        "count = 0\n",
        "for i in range(10):\n",
        "  num = eval(input('Enter a number: '))\n",
        "  if num > 10:\n",
        "    count += 1  # or count = count + 1\n",
        "print('There are', count, 'numbers greater than 10.')"
      ],
      "execution_count": null,
      "outputs": [
        {
          "output_type": "stream",
          "text": [
            "Enter a number: 2\n",
            "Enter a number: 3\n",
            "Enter a number: 4\n",
            "Enter a number: 10\n",
            "Enter a number: 11\n",
            "Enter a number: 14\n",
            "Enter a number: 5\n",
            "Enter a number: 15\n",
            "Enter a number: 16\n",
            "Enter a number: 14\n",
            "There are 5 numbers greater than 10.\n"
          ],
          "name": "stdout"
        }
      ]
    },
    {
      "cell_type": "markdown",
      "metadata": {
        "id": "QfMWTGYNLxUt"
      },
      "source": [
        "This modification of the previous example counts how many of the numbers the user\n",
        "enters are greater than 10 and also how many are equal to 0. To count two things we use two count\n",
        "variables."
      ]
    },
    {
      "cell_type": "code",
      "metadata": {
        "id": "sZyQAGRKLxcu",
        "colab": {
          "base_uri": "https://localhost:8080/",
          "height": 225
        },
        "outputId": "bfe4cfae-3f4a-4750-925d-926d3d1aab7f"
      },
      "source": [
        "count1 = 0\n",
        "count2 = 0\n",
        "for i in range(10):\n",
        "  num = eval(input('Enter a number: '))\n",
        "  if num > 10:\n",
        "    count1 += 1\n",
        "  if num == 0:\n",
        "    count2 += 1\n",
        "print('There are', count1, 'numbers greater than 10.')\n",
        "print('There are', count2, 'zeroes.')"
      ],
      "execution_count": null,
      "outputs": [
        {
          "output_type": "stream",
          "text": [
            "Enter a number: 5\n",
            "Enter a number: 43\n",
            "Enter a number: 4\n",
            "Enter a number: 43\n",
            "Enter a number: 34\n",
            "Enter a number: 23\n",
            "Enter a number: 3\n",
            "Enter a number: 2\n",
            "Enter a number: 2\n",
            "Enter a number: 4\n",
            "There are 4 numbers greater than 10.\n",
            "There are 0 zeroes.\n"
          ],
          "name": "stdout"
        }
      ]
    },
    {
      "cell_type": "markdown",
      "metadata": {
        "id": "die2AEMZLxhz"
      },
      "source": [
        "## Summing\n",
        "\n",
        "Closely related to counting is summing, where we want to add up some numbers.\n",
        "For example, this program will add up the numbers from 1 to 100. The way this works is that each\n",
        "time we encounter a new number, we add it to our running total, `s`."
      ]
    },
    {
      "cell_type": "code",
      "metadata": {
        "id": "EFLF2PQYLxm3",
        "colab": {
          "base_uri": "https://localhost:8080/",
          "height": 35
        },
        "outputId": "e6edb111-735c-44f7-f1ec-dd3590987019"
      },
      "source": [
        "s = 0\n",
        "for i in range(1,101):\n",
        "  s += i\n",
        "print('The sum is', s)"
      ],
      "execution_count": null,
      "outputs": [
        {
          "output_type": "stream",
          "text": [
            "The sum is 5050\n"
          ],
          "name": "stdout"
        }
      ]
    },
    {
      "cell_type": "markdown",
      "metadata": {
        "id": "eMLiVCc8LxsJ"
      },
      "source": [
        "This program that will ask the user for 10 numbers and then computes their average."
      ]
    },
    {
      "cell_type": "code",
      "metadata": {
        "id": "RZXEC8QFLxxL",
        "colab": {
          "base_uri": "https://localhost:8080/",
          "height": 208
        },
        "outputId": "3a22c085-5afb-4869-a876-d40da56a056c"
      },
      "source": [
        "s = 0\n",
        "for i in range(10):\n",
        "  num = eval(input('Enter a number: '))\n",
        "  s += num\n",
        "print('The average is', s/10)"
      ],
      "execution_count": null,
      "outputs": [
        {
          "output_type": "stream",
          "text": [
            "Enter a number: 2\n",
            "Enter a number: 23\n",
            "Enter a number: 2\n",
            "Enter a number: 1\n",
            "Enter a number: 4\n",
            "Enter a number: 5\n",
            "Enter a number: 6\n",
            "Enter a number: 7\n",
            "Enter a number: 8\n",
            "Enter a number: 5\n",
            "The average is 6.3\n"
          ],
          "name": "stdout"
        }
      ]
    },
    {
      "cell_type": "markdown",
      "metadata": {
        "id": "p3sLRoXcLx2m"
      },
      "source": [
        "## Swapping\n",
        "\n",
        "Often we will want to swap the values of two variables, `x` and `y`. A common mistake is to do like this"
      ]
    },
    {
      "cell_type": "code",
      "metadata": {
        "id": "r7V8uQcLK2rO",
        "colab": {
          "base_uri": "https://localhost:8080/",
          "height": 52
        },
        "outputId": "9d06003b-fc97-4065-f53c-a7b6a2d3e801"
      },
      "source": [
        "x = 5\n",
        "y = 15\n",
        "x = y\n",
        "y = x\n",
        "print(x)\n",
        "print(y)"
      ],
      "execution_count": null,
      "outputs": [
        {
          "output_type": "stream",
          "text": [
            "15\n",
            "15\n"
          ],
          "name": "stdout"
        }
      ]
    },
    {
      "cell_type": "markdown",
      "metadata": {
        "id": "OdvReOmsMBTu"
      },
      "source": [
        "But this will not work. One way to achive this is to use a third variable to save the value of `x`:"
      ]
    },
    {
      "cell_type": "code",
      "metadata": {
        "id": "qExSnd_EMBZY",
        "colab": {
          "base_uri": "https://localhost:8080/",
          "height": 52
        },
        "outputId": "fcaa6653-3912-43c1-d744-5aee40525ed0"
      },
      "source": [
        "x = 5\n",
        "y = 15\n",
        "hold = x\n",
        "x = y\n",
        "y = hold\n",
        "print(x)\n",
        "print(y)"
      ],
      "execution_count": null,
      "outputs": [
        {
          "output_type": "stream",
          "text": [
            "15\n",
            "5\n"
          ],
          "name": "stdout"
        }
      ]
    },
    {
      "cell_type": "markdown",
      "metadata": {
        "id": "9mESOb2jMBe9"
      },
      "source": [
        "There is a nicer way to do this in Python"
      ]
    },
    {
      "cell_type": "code",
      "metadata": {
        "id": "70GQX_krMBkO",
        "colab": {
          "base_uri": "https://localhost:8080/",
          "height": 52
        },
        "outputId": "570761fc-6db2-407a-cb71-57dc86b03e31"
      },
      "source": [
        "x = 5\n",
        "y = 15\n",
        "x, y = y, x\n",
        "print(x)\n",
        "print(y)"
      ],
      "execution_count": null,
      "outputs": [
        {
          "output_type": "stream",
          "text": [
            "15\n",
            "5\n"
          ],
          "name": "stdout"
        }
      ]
    },
    {
      "cell_type": "markdown",
      "metadata": {
        "id": "zA9HLCyHMLM_"
      },
      "source": [
        "## Flag variables\n",
        "\n",
        "A flag variable can be used to let one part of your program know when something happens in\n",
        "another part of the program. Here is an example that determines if a number is prime."
      ]
    },
    {
      "cell_type": "code",
      "metadata": {
        "id": "uSYJS42oMLSj",
        "colab": {
          "base_uri": "https://localhost:8080/",
          "height": 52
        },
        "outputId": "7d27c68b-be3b-4e2f-8b13-cf84196dff2d"
      },
      "source": [
        "num = int(input('Enter number: '))\n",
        "flag = 0\n",
        "for i in range(2, num):\n",
        "  if num % i == 0:\n",
        "    flag = 1\n",
        "    \n",
        "if flag == 1:\n",
        "  print('Not prime')\n",
        "else:\n",
        "  print('Prime')"
      ],
      "execution_count": null,
      "outputs": [
        {
          "output_type": "stream",
          "text": [
            "Enter number: 12\n",
            "Not prime\n"
          ],
          "name": "stdout"
        }
      ]
    },
    {
      "cell_type": "markdown",
      "metadata": {
        "id": "7zg32276MLXs"
      },
      "source": [
        "## Max and Min\n",
        "\n",
        "A common programming task is to find the largest or smallest value in a series of values. Here is\n",
        "an example where we ask the user to enter ten positive numbers and then we print the largest one."
      ]
    },
    {
      "cell_type": "code",
      "metadata": {
        "id": "BAbbHU-OMLcx",
        "colab": {
          "base_uri": "https://localhost:8080/",
          "height": 191
        },
        "outputId": "6050bff1-fc1c-4533-abae-d5d97f0294a5"
      },
      "source": [
        "largest = 0\n",
        "for i in range(9):\n",
        "  num = eval(input('Enter a positive number: '))\n",
        "  if num > largest:\n",
        "    largest = num\n",
        "print('Largest number:', largest)"
      ],
      "execution_count": null,
      "outputs": [
        {
          "output_type": "stream",
          "text": [
            "Enter a positive number: 1\n",
            "Enter a positive number: 2\n",
            "Enter a positive number: 12\n",
            "Enter a positive number: 15\n",
            "Enter a positive number: 33\n",
            "Enter a positive number: 2\n",
            "Enter a positive number: 3\n",
            "Enter a positive number: 4\n",
            "Enter a positive number: 5\n",
            "Largest number: 33\n"
          ],
          "name": "stdout"
        }
      ]
    },
    {
      "cell_type": "markdown",
      "metadata": {
        "id": "bv3gTZaZMLim"
      },
      "source": [
        "# Exercises\n",
        "\n",
        "1. Write a program that outputs 100 lines, numbered 1 to 100, each with your name on it. The\n",
        "output should look like the output below.\n",
        "\n",
        "  Գրել ծրագիր, որը կտպի 100 հատ համարակալված տող (1-ից 100) և կգրի ձեր անունը։ Օրինակ՝\n",
        "\n",
        "1 Nshan\n",
        "\n",
        "2 Nshan\n",
        "\n",
        "...\n",
        "\n",
        "100 Nshan\n"
      ]
    },
    {
      "cell_type": "code",
      "metadata": {
        "id": "r9Q3VH4VMLnp",
        "outputId": "562406e0-3cf6-452a-f566-5bceb30b567f",
        "colab": {
          "base_uri": "https://localhost:8080/"
        }
      },
      "source": [
        "for i in range(1, 101):\n",
        "  print(i, 'Lilith')"
      ],
      "execution_count": null,
      "outputs": [
        {
          "output_type": "stream",
          "name": "stdout",
          "text": [
            "1 Lilith\n",
            "2 Lilith\n",
            "3 Lilith\n",
            "4 Lilith\n",
            "5 Lilith\n",
            "6 Lilith\n",
            "7 Lilith\n",
            "8 Lilith\n",
            "9 Lilith\n",
            "10 Lilith\n",
            "11 Lilith\n",
            "12 Lilith\n",
            "13 Lilith\n",
            "14 Lilith\n",
            "15 Lilith\n",
            "16 Lilith\n",
            "17 Lilith\n",
            "18 Lilith\n",
            "19 Lilith\n",
            "20 Lilith\n",
            "21 Lilith\n",
            "22 Lilith\n",
            "23 Lilith\n",
            "24 Lilith\n",
            "25 Lilith\n",
            "26 Lilith\n",
            "27 Lilith\n",
            "28 Lilith\n",
            "29 Lilith\n",
            "30 Lilith\n",
            "31 Lilith\n",
            "32 Lilith\n",
            "33 Lilith\n",
            "34 Lilith\n",
            "35 Lilith\n",
            "36 Lilith\n",
            "37 Lilith\n",
            "38 Lilith\n",
            "39 Lilith\n",
            "40 Lilith\n",
            "41 Lilith\n",
            "42 Lilith\n",
            "43 Lilith\n",
            "44 Lilith\n",
            "45 Lilith\n",
            "46 Lilith\n",
            "47 Lilith\n",
            "48 Lilith\n",
            "49 Lilith\n",
            "50 Lilith\n",
            "51 Lilith\n",
            "52 Lilith\n",
            "53 Lilith\n",
            "54 Lilith\n",
            "55 Lilith\n",
            "56 Lilith\n",
            "57 Lilith\n",
            "58 Lilith\n",
            "59 Lilith\n",
            "60 Lilith\n",
            "61 Lilith\n",
            "62 Lilith\n",
            "63 Lilith\n",
            "64 Lilith\n",
            "65 Lilith\n",
            "66 Lilith\n",
            "67 Lilith\n",
            "68 Lilith\n",
            "69 Lilith\n",
            "70 Lilith\n",
            "71 Lilith\n",
            "72 Lilith\n",
            "73 Lilith\n",
            "74 Lilith\n",
            "75 Lilith\n",
            "76 Lilith\n",
            "77 Lilith\n",
            "78 Lilith\n",
            "79 Lilith\n",
            "80 Lilith\n",
            "81 Lilith\n",
            "82 Lilith\n",
            "83 Lilith\n",
            "84 Lilith\n",
            "85 Lilith\n",
            "86 Lilith\n",
            "87 Lilith\n",
            "88 Lilith\n",
            "89 Lilith\n",
            "90 Lilith\n",
            "91 Lilith\n",
            "92 Lilith\n",
            "93 Lilith\n",
            "94 Lilith\n",
            "95 Lilith\n",
            "96 Lilith\n",
            "97 Lilith\n",
            "98 Lilith\n",
            "99 Lilith\n",
            "100 Lilith\n"
          ]
        }
      ]
    },
    {
      "cell_type": "markdown",
      "metadata": {
        "id": "lGWy4Ar1MfCN"
      },
      "source": [
        "2. Write a program that prints out a list of the integers from 1 to 20 and their squares. The output\n",
        "should look like this:\n",
        "\n",
        "  Գրել ծրագիր, որը կտպի 1-20 ամբողջ թվերը և նրանց քառակուսիները՝ այսպես․\n",
        "\n",
        "1 --- 1\n",
        "\n",
        "2 --- 4\n",
        "\n",
        "3 --- 9\n",
        "\n",
        "...\n",
        "\n",
        "20 --- 400"
      ]
    },
    {
      "cell_type": "code",
      "metadata": {
        "id": "bgGNV2o1MfIN",
        "outputId": "7aa00985-f346-4af9-a4c1-a15e8e8909f1",
        "colab": {
          "base_uri": "https://localhost:8080/"
        }
      },
      "source": [
        "for i in range (1, 21):\n",
        "  print(i,'---', i*i)"
      ],
      "execution_count": null,
      "outputs": [
        {
          "output_type": "stream",
          "name": "stdout",
          "text": [
            "1 --- 1\n",
            "2 --- 4\n",
            "3 --- 9\n",
            "4 --- 16\n",
            "5 --- 25\n",
            "6 --- 36\n",
            "7 --- 49\n",
            "8 --- 64\n",
            "9 --- 81\n",
            "10 --- 100\n",
            "11 --- 121\n",
            "12 --- 144\n",
            "13 --- 169\n",
            "14 --- 196\n",
            "15 --- 225\n",
            "16 --- 256\n",
            "17 --- 289\n",
            "18 --- 324\n",
            "19 --- 361\n",
            "20 --- 400\n"
          ]
        }
      ]
    },
    {
      "cell_type": "markdown",
      "metadata": {
        "id": "qyE_U2uXMfN0"
      },
      "source": [
        "3. Write a program that uses a for loop to print the numbers 8, 11, 14, 17, 20, . . . , 83, 86, 89.\n",
        "\n",
        "  Գրել ծրագիր, որը կտպի հետևյալ թվերը 8, 11, 14, 17, 20, . . . , 83, 86, 89` օգտագործելով **for** ցիկլ:"
      ]
    },
    {
      "cell_type": "code",
      "metadata": {
        "id": "rylql7WfMfSb",
        "outputId": "c22a774e-f903-468f-af1a-460b752d112d",
        "colab": {
          "base_uri": "https://localhost:8080/"
        }
      },
      "source": [
        "for i in range(8, 90, 3):\n",
        "  print(i)"
      ],
      "execution_count": null,
      "outputs": [
        {
          "output_type": "stream",
          "name": "stdout",
          "text": [
            "8  \n",
            "11  \n",
            "14  \n",
            "17  \n",
            "20  \n",
            "23  \n",
            "26  \n",
            "29  \n",
            "32  \n",
            "35  \n",
            "38  \n",
            "41  \n",
            "44  \n",
            "47  \n",
            "50  \n",
            "53  \n",
            "56  \n",
            "59  \n",
            "62  \n",
            "65  \n",
            "68  \n",
            "71  \n",
            "74  \n",
            "77  \n",
            "80  \n",
            "83  \n",
            "86  \n",
            "89  \n"
          ]
        }
      ]
    },
    {
      "cell_type": "markdown",
      "metadata": {
        "id": "5UfKGEBdMmJF"
      },
      "source": [
        "4. Write a program that asks the user to enter ten positive numbers and then prints the smallest one.\n",
        "\n",
        "  Գրել ծրագիր, որը կվերցնի 10 դրական թվեր օգտատիրոջից և կտպի դրանցից փոքրագույնը։"
      ]
    },
    {
      "cell_type": "code",
      "metadata": {
        "id": "LtrUVkrdMmUP",
        "outputId": "dc425ea8-62f3-4595-d809-f39638984f49",
        "colab": {
          "base_uri": "https://localhost:8080/"
        }
      },
      "source": [
        "list1=[]\n",
        "for i in range (10):\n",
        "  n=int(input())\n",
        "  list1.append(n)\n",
        "print (list1)\n",
        "min=list1[0]\n",
        "for i in range (len(list1)):\n",
        "  if list1[i]<min:\n",
        "    min=list1[i]\n",
        "print(\"The smallest element is: \", min)\n"
      ],
      "execution_count": 7,
      "outputs": [
        {
          "output_type": "stream",
          "name": "stdout",
          "text": [
            "1\n",
            "0\n",
            "9\n",
            "245\n",
            "688\n",
            "632\n",
            "-9\n",
            "14\n",
            "12\n",
            "325\n",
            "[1, 0, 9, 245, 688, 632, -9, 14, 12, 325]\n",
            "The smallest element is:  -9\n"
          ]
        }
      ]
    }
  ]
}