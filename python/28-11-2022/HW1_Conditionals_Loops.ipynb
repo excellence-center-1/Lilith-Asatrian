{
  "nbformat": 4,
  "nbformat_minor": 0,
  "metadata": {
    "colab": {
      "provenance": []
    },
    "kernelspec": {
      "name": "python3",
      "display_name": "Python 3"
    }
  },
  "cells": [
    {
      "cell_type": "markdown",
      "metadata": {
        "id": "mUHLJQsJaMNt"
      },
      "source": [
        "# Exercises"
      ]
    },
    {
      "cell_type": "markdown",
      "metadata": {
        "id": "GCEodKTbRd_r"
      },
      "source": [
        "## Conditionals"
      ]
    },
    {
      "cell_type": "markdown",
      "metadata": {
        "id": "YUaFYy8OIHWp"
      },
      "source": [
        "Problem1. (3 points) Write a program that asks the user to provide an integer that specifies a person's age, and according to that value print whether the person is a **child** (0-14), **young** (15-24), **adult** (25-64) or **senior** (more than 64).\n",
        "\n",
        "  Գրել ծրագիր, որը օգտատիրոջից վերցնում է տվյալ անձի տարիքը որպես ամբողջ թիվ և կախված այդ թվից տպում է **child** (0-14), **young** (15-24), **adult** (25-64) or **senior** (more than 64)։ "
      ]
    },
    {
      "cell_type": "code",
      "metadata": {
        "id": "xrSVUy31IHeV",
        "colab": {
          "base_uri": "https://localhost:8080/"
        },
        "outputId": "1fc345d0-8184-4125-e0d4-6f39a8d3d14f"
      },
      "source": [
        "age=int(input('age:'))\n",
        "if 0<=age<=14:\n",
        "  print('child')\n",
        "elif 15<=age<=24:\n",
        "  print('young')\n",
        "elif 25<=age<=64:\n",
        "  print('adult')\n",
        "elif age>64:\n",
        "  print('senior')\n",
        "else:\n",
        "  print('error')\n"
      ],
      "execution_count": 1,
      "outputs": [
        {
          "output_type": "stream",
          "name": "stdout",
          "text": [
            "age:16\n",
            "young\n"
          ]
        }
      ]
    },
    {
      "cell_type": "markdown",
      "metadata": {
        "id": "FgcH-562IHlB"
      },
      "source": [
        "Problem2. (9 points) A year is a leap year (նահանջ տարի) if it is divisible by 4, except that years divisible by 100 are not leap years\n",
        "unless they are also divisible by 400. Write a program that asks the user for a year and prints\n",
        "out whether it is a leap year or not.\n",
        "\n",
        "  Տարին *նահանջ տարի* է, եթե տարեթիվը բաժանվում է 4-ի, բացառությամբ այն տարեթվերի, որոնք բաժանվում են 100-ի և չեն բաժանվում 400-ի վրա։ Գրել ծրագիր, որը վերցնում է օգտատիրոջ ներմուծած տարեթիվը և տպում արդյոք դա նահանջ տարի է, թե չէ։"
      ]
    },
    {
      "cell_type": "code",
      "metadata": {
        "id": "KMqAiNsGIHsU",
        "colab": {
          "base_uri": "https://localhost:8080/"
        },
        "outputId": "30a6615d-08f2-482d-c0de-fc70465f16d9"
      },
      "source": [
        "year=int(input('Year: '))\n",
        "if(year<0):\n",
        "  print('error')\n",
        "elif (year%4==0 and year%100!=0) or (year%400==0):\n",
        "  print('It is a leap year')    \n",
        "else:\n",
        "  print('Not a leap year')  \n",
        " "
      ],
      "execution_count": 2,
      "outputs": [
        {
          "output_type": "stream",
          "name": "stdout",
          "text": [
            "Year: 1600\n",
            "It is a leap year\n"
          ]
        }
      ]
    },
    {
      "cell_type": "markdown",
      "metadata": {
        "id": "IicCIcQvIHxY"
      },
      "source": [
        "Problem3. (3 points) Write a program that asks the user to provide three numbers. The the program should check whether the third number is the product of the first two, and if so it should display **True**, otherwise **False**. For example, in case of $2,4,8$ the output should be True because $2\\cdot 4=8$\n",
        "\n",
        "Գրել ծրագիր, որը օգտատիրոջից վերցնում է 3 թվեր և ստուգում՝ արդյոք երրորդ թիվը առաջին երկուսի արտադրյալն է, թե ոչ։ Առաջին դեպքում պետք է տպել **True**, հակառակ դեպքում՝ **False**։ Օրինակ՝ $2,4,8$ թվերի դեպքում կլինի **True**, քանի որ $2\\cdot 4=8$"
      ]
    },
    {
      "cell_type": "code",
      "metadata": {
        "id": "gW2JdxzWIH4g",
        "colab": {
          "base_uri": "https://localhost:8080/"
        },
        "outputId": "e3ccd514-cd60-4190-ffac-4ff863bd6a9a"
      },
      "source": [
        "x=int(input('x: '))\n",
        "y=int(input('y: '))\n",
        "z=int(input('z: '))\n",
        "if z==x*y:\n",
        "  print('True')\n",
        "else:\n",
        "  print('False')\n"
      ],
      "execution_count": 4,
      "outputs": [
        {
          "output_type": "stream",
          "name": "stdout",
          "text": [
            "x: 2\n",
            "y: 3\n",
            "z: 6\n",
            "True\n"
          ]
        }
      ]
    },
    {
      "cell_type": "markdown",
      "metadata": {
        "id": "MEC70di4IH_O"
      },
      "source": [
        "Problem4. (9 points) Write a program that asks the user for an hour between 1 and 12, asks them to enter **am** or **pm** [[1]](https://en.wikipedia.org/wiki/12-hour_clock),\n",
        "and asks them how many hours into the future they want to go. Print out what the hour will be after adding the last number, printing *am* or *pm* as appropriate. An example is shown\n",
        "below.\n",
        "\n",
        "  Գրել ծրագիր, որում օգտատերը ներմուծում է 1-12 թիվ (որպես ժամ), ինչպես նաև `am` կամ `pm` (իմանալ ավելին [այստեղ](https://en.wikipedia.org/wiki/12-hour_clock))։ Այնուհետև օգտատիրոջից վերցնում է մի թիվ, որը ցույց է տալիս թե քանի ժամ է ուզում գումարել սկզբնական ժամին։ Ծրագիրը պետք է վերադարձնի ժամերի գումարը և նշի արդյոք դա `am` է, թե `pm`: Օրինակ՝ \n",
        "\n",
        "\n",
        "*Enter hour: 8* \n",
        "\n",
        "*am (1) or pm (2)? 1*\n",
        "\n",
        "*How many hours ahead? 5*\n",
        "\n",
        "*New hour: 1 pm*"
      ]
    },
    {
      "cell_type": "code",
      "metadata": {
        "id": "wU6-9X9zIIFe",
        "colab": {
          "base_uri": "https://localhost:8080/"
        },
        "outputId": "c218a109-4ff6-4b8c-a649-d039f4a16f9e"
      },
      "source": [
        "hour= int(input('Hour: '))\n",
        "ch=int(input('am(1) or pm(2)? '))\n",
        "addedhour=int(input('How many hours ahead? '))\n",
        "if(1<=hour<=12):\n",
        "  newhour=hour+addedhour\n",
        "if(ch==1 and newhour>12):\n",
        "  print('New hour:', newhour-12, 'pm')\n",
        "elif(ch==2 and newhour>12):\n",
        "  print('New hour:', newhour-12, 'am')\n",
        "else:\n",
        "  print('error')"
      ],
      "execution_count": 5,
      "outputs": [
        {
          "output_type": "stream",
          "name": "stdout",
          "text": [
            "Hour: 5\n",
            "am(1) or pm(2)? 2\n",
            "How many hours ahead? 8\n",
            "New hour: 1 am\n"
          ]
        }
      ]
    },
    {
      "cell_type": "markdown",
      "metadata": {
        "id": "DX4939I0Kdqt"
      },
      "source": [
        "Problem5. (4 points) A company decided to give bonus of $5\\%$ to those employees whose experience in the company is more than $5$ years.\n",
        "Ask the user for their salary and number of working years and print the net bonus amount, otherwise print **No bonus**.\n",
        "\n",
        "  Ինչ-որ ընկերություն որոշել է տրամադրել $5\\%$ բոնուս այն աշխատակիցներին, ովքեր աշխատանքային փորձը գերազանցում է 5 տարին։ Օգտատիրոջ կողմից մուտքագրված աշխատավարձի և աշխատանքային տարիների տվյալի հիման վրա անհրաժեշտ է հաշվել և տպել ստացվելիք զուտ բոնուսի չափը, հակառակ դեպքում տպել **No bonus**։"
      ]
    },
    {
      "cell_type": "code",
      "metadata": {
        "id": "bAKqzpv6KfDJ",
        "colab": {
          "base_uri": "https://localhost:8080/"
        },
        "outputId": "a546f8db-307a-4fe0-a588-493b833a8eac"
      },
      "source": [
        "salary=int(input('Your salary: '))\n",
        "year=int(input('How many years have you worked? '))\n",
        "if year>5:\n",
        "  print('The bonus is', salary*5//100)\n",
        "else:\n",
        "  print('No bonus')"
      ],
      "execution_count": 6,
      "outputs": [
        {
          "output_type": "stream",
          "name": "stdout",
          "text": [
            "Your salary: 15000\n",
            "How many years have you worked? 3\n",
            "No bonus\n"
          ]
        }
      ]
    },
    {
      "cell_type": "markdown",
      "metadata": {
        "id": "0N7CjkxwY3Jj"
      },
      "source": [
        "## while loop"
      ]
    },
    {
      "cell_type": "markdown",
      "metadata": {
        "id": "DyI6E4pMY3TW"
      },
      "source": [
        "Problem6. (9 points) Rewrite the code using a **while** loop to accomplish the same thing.\n",
        "\n",
        "  Գրել նշված ծրագիրը **while** ցիկլով։\n",
        "\n",
        "`for i in range(1, 51):`\n",
        "\n",
        "           `print(i)`\n"
      ]
    },
    {
      "cell_type": "code",
      "metadata": {
        "id": "xXnFBwF6Y3aG",
        "colab": {
          "base_uri": "https://localhost:8080/"
        },
        "outputId": "89937a9a-d38c-443b-fd12-56f71d979980"
      },
      "source": [
        "i=1\n",
        "while i<=50:\n",
        "  print(i)\n",
        "  i+=1"
      ],
      "execution_count": 8,
      "outputs": [
        {
          "output_type": "stream",
          "name": "stdout",
          "text": [
            "1\n",
            "2\n",
            "3\n",
            "4\n",
            "5\n",
            "6\n",
            "7\n",
            "8\n",
            "9\n",
            "10\n",
            "11\n",
            "12\n",
            "13\n",
            "14\n",
            "15\n",
            "16\n",
            "17\n",
            "18\n",
            "19\n",
            "20\n",
            "21\n",
            "22\n",
            "23\n",
            "24\n",
            "25\n",
            "26\n",
            "27\n",
            "28\n",
            "29\n",
            "30\n",
            "31\n",
            "32\n",
            "33\n",
            "34\n",
            "35\n",
            "36\n",
            "37\n",
            "38\n",
            "39\n",
            "40\n",
            "41\n",
            "42\n",
            "43\n",
            "44\n",
            "45\n",
            "46\n",
            "47\n",
            "48\n",
            "49\n",
            "50\n"
          ]
        }
      ]
    },
    {
      "cell_type": "markdown",
      "metadata": {
        "id": "LN3WNPA8Y3fE"
      },
      "source": [
        "Problem7. (9 points) Write a program with **while** loop, to play the following game. The player starts with $\\$100$. On each\n",
        "turn a coin is flipped and the player has to guess heads or tails. The player wins $\\$9$ for each\n",
        "correct guess and loses $\\$10$ for each incorrect guess. The game ends either when the player\n",
        "runs out of money or gets to $\\$200$.\n",
        "\n",
        "  Գրել ծրագիր **while** ցիկլով, որը կխաղա հետևյալ խաղը․ խաղացողը սկսում է $\\$100$-ով և յուրաքանչյուր քայլում նետվում է մետաղադրամ, իսկ խաղացողը պետք է գուշակի արդյոք ղուշ է ստացվել, թե գիր։ Յուրաքանչյուր ճիշտ գուշակածի համար խաղացողը ստանում է $\\$9$ և կորցնում է $\\$10$ յուրաքանչյուր սխալի դեպքում։ Խաղն ավարտվում է, եթե խաղացողը կորցնում է ամբողջ գումարը կամ հավաքում է $\\$200$:"
      ]
    },
    {
      "cell_type": "code",
      "metadata": {
        "id": "c78pu3CXY3j1",
        "colab": {
          "base_uri": "https://localhost:8080/",
          "height": 1000
        },
        "outputId": "2460f6e6-d32d-4c28-fb70-b0a8a32b13ba"
      },
      "source": [
        "from pathlib import PureWindowsPath\n",
        "import random\n",
        "money=100\n",
        "while 0<money<200:\n",
        "  generator=random.randint(1,2)\n",
        "  headsTails=int(input(\"1(Heads) or 2(Tails): \"))\n",
        "  print(\"The flipped coin turned out to be: \", generator)\n",
        "  if headsTails==1 or headsTails==2:\n",
        "    if generator==headsTails:\n",
        "      money+=9\n",
        "      print(\"You guessed right! Now you have: \", money, \"$\")\n",
        "    else:\n",
        "      money-=10\n",
        "      print(\"You guessed wrong. Now you have: \", money, \"$\")\n",
        "  else:\n",
        "    print(\"Not valid choice. Please enter 1(Heads) or 2(Tails)\")\n",
        "    continue\n",
        "if money<=0:\n",
        "  print(\"You lost the game...\")\n",
        "elif money>=2:\n",
        "  print(\"You win!!!\")\n",
        "\n"
      ],
      "execution_count": 22,
      "outputs": [
        {
          "output_type": "stream",
          "name": "stdout",
          "text": [
            "1(Heads) or 2(Tails): 2\n",
            "The flipped coin turned out to be:  1\n",
            "You guessed wrong. Now you have:  90 $\n",
            "1(Heads) or 2(Tails): 3\n",
            "The flipped coin turned out to be:  2\n",
            "Not valid choice. Please enter 1(Heads) or 2(Tails)\n",
            "1(Heads) or 2(Tails): 1\n",
            "The flipped coin turned out to be:  1\n",
            "You guessed right! Now you have:  99 $\n",
            "1(Heads) or 2(Tails): 1\n",
            "The flipped coin turned out to be:  2\n",
            "You guessed wrong. Now you have:  89 $\n",
            "1(Heads) or 2(Tails): 2\n",
            "The flipped coin turned out to be:  2\n",
            "You guessed right! Now you have:  98 $\n",
            "1(Heads) or 2(Tails): 2\n",
            "The flipped coin turned out to be:  2\n",
            "You guessed right! Now you have:  107 $\n",
            "1(Heads) or 2(Tails): 2\n",
            "The flipped coin turned out to be:  2\n",
            "You guessed right! Now you have:  116 $\n",
            "1(Heads) or 2(Tails): 1\n",
            "The flipped coin turned out to be:  2\n",
            "You guessed wrong. Now you have:  106 $\n",
            "1(Heads) or 2(Tails): 2\n",
            "The flipped coin turned out to be:  2\n",
            "You guessed right! Now you have:  115 $\n",
            "1(Heads) or 2(Tails): 1\n",
            "The flipped coin turned out to be:  1\n",
            "You guessed right! Now you have:  124 $\n",
            "1(Heads) or 2(Tails): 2\n",
            "The flipped coin turned out to be:  2\n",
            "You guessed right! Now you have:  133 $\n",
            "1(Heads) or 2(Tails): 1\n",
            "The flipped coin turned out to be:  2\n",
            "You guessed wrong. Now you have:  123 $\n",
            "1(Heads) or 2(Tails): 2\n",
            "The flipped coin turned out to be:  1\n",
            "You guessed wrong. Now you have:  113 $\n",
            "1(Heads) or 2(Tails): 1\n",
            "The flipped coin turned out to be:  2\n",
            "You guessed wrong. Now you have:  103 $\n",
            "1(Heads) or 2(Tails): 2\n",
            "The flipped coin turned out to be:  2\n",
            "You guessed right! Now you have:  112 $\n",
            "1(Heads) or 2(Tails): 2\n",
            "The flipped coin turned out to be:  1\n",
            "You guessed wrong. Now you have:  102 $\n",
            "1(Heads) or 2(Tails): 1\n",
            "The flipped coin turned out to be:  1\n",
            "You guessed right! Now you have:  111 $\n",
            "1(Heads) or 2(Tails): 2\n",
            "The flipped coin turned out to be:  1\n",
            "You guessed wrong. Now you have:  101 $\n",
            "1(Heads) or 2(Tails): 1\n",
            "The flipped coin turned out to be:  2\n",
            "You guessed wrong. Now you have:  91 $\n",
            "1(Heads) or 2(Tails): 2\n",
            "The flipped coin turned out to be:  1\n",
            "You guessed wrong. Now you have:  81 $\n"
          ]
        },
        {
          "output_type": "error",
          "ename": "KeyboardInterrupt",
          "evalue": "ignored",
          "traceback": [
            "\u001b[0;31m---------------------------------------------------------------------------\u001b[0m",
            "\u001b[0;31mKeyboardInterrupt\u001b[0m                         Traceback (most recent call last)",
            "\u001b[0;32m<ipython-input-22-bb74a93eba4e>\u001b[0m in \u001b[0;36m<module>\u001b[0;34m\u001b[0m\n\u001b[1;32m      4\u001b[0m \u001b[0;32mwhile\u001b[0m \u001b[0;36m0\u001b[0m\u001b[0;34m<\u001b[0m\u001b[0mmoney\u001b[0m\u001b[0;34m<\u001b[0m\u001b[0;36m200\u001b[0m\u001b[0;34m:\u001b[0m\u001b[0;34m\u001b[0m\u001b[0;34m\u001b[0m\u001b[0m\n\u001b[1;32m      5\u001b[0m   \u001b[0mgenerator\u001b[0m\u001b[0;34m=\u001b[0m\u001b[0mrandom\u001b[0m\u001b[0;34m.\u001b[0m\u001b[0mrandint\u001b[0m\u001b[0;34m(\u001b[0m\u001b[0;36m1\u001b[0m\u001b[0;34m,\u001b[0m\u001b[0;36m2\u001b[0m\u001b[0;34m)\u001b[0m\u001b[0;34m\u001b[0m\u001b[0;34m\u001b[0m\u001b[0m\n\u001b[0;32m----> 6\u001b[0;31m   \u001b[0mheadsTails\u001b[0m\u001b[0;34m=\u001b[0m\u001b[0mint\u001b[0m\u001b[0;34m(\u001b[0m\u001b[0minput\u001b[0m\u001b[0;34m(\u001b[0m\u001b[0;34m\"1(Heads) or 2(Tails): \"\u001b[0m\u001b[0;34m)\u001b[0m\u001b[0;34m)\u001b[0m\u001b[0;34m\u001b[0m\u001b[0;34m\u001b[0m\u001b[0m\n\u001b[0m\u001b[1;32m      7\u001b[0m   \u001b[0mprint\u001b[0m\u001b[0;34m(\u001b[0m\u001b[0;34m\"The flipped coin turned out to be: \"\u001b[0m\u001b[0;34m,\u001b[0m \u001b[0mgenerator\u001b[0m\u001b[0;34m)\u001b[0m\u001b[0;34m\u001b[0m\u001b[0;34m\u001b[0m\u001b[0m\n\u001b[1;32m      8\u001b[0m   \u001b[0;32mif\u001b[0m \u001b[0mheadsTails\u001b[0m\u001b[0;34m==\u001b[0m\u001b[0;36m1\u001b[0m \u001b[0;32mor\u001b[0m \u001b[0mheadsTails\u001b[0m\u001b[0;34m==\u001b[0m\u001b[0;36m2\u001b[0m\u001b[0;34m:\u001b[0m\u001b[0;34m\u001b[0m\u001b[0;34m\u001b[0m\u001b[0m\n",
            "\u001b[0;32m/usr/local/lib/python3.7/dist-packages/ipykernel/kernelbase.py\u001b[0m in \u001b[0;36mraw_input\u001b[0;34m(self, prompt)\u001b[0m\n\u001b[1;32m    861\u001b[0m             \u001b[0mself\u001b[0m\u001b[0;34m.\u001b[0m\u001b[0m_parent_ident\u001b[0m\u001b[0;34m,\u001b[0m\u001b[0;34m\u001b[0m\u001b[0;34m\u001b[0m\u001b[0m\n\u001b[1;32m    862\u001b[0m             \u001b[0mself\u001b[0m\u001b[0;34m.\u001b[0m\u001b[0m_parent_header\u001b[0m\u001b[0;34m,\u001b[0m\u001b[0;34m\u001b[0m\u001b[0;34m\u001b[0m\u001b[0m\n\u001b[0;32m--> 863\u001b[0;31m             \u001b[0mpassword\u001b[0m\u001b[0;34m=\u001b[0m\u001b[0;32mFalse\u001b[0m\u001b[0;34m,\u001b[0m\u001b[0;34m\u001b[0m\u001b[0;34m\u001b[0m\u001b[0m\n\u001b[0m\u001b[1;32m    864\u001b[0m         )\n\u001b[1;32m    865\u001b[0m \u001b[0;34m\u001b[0m\u001b[0m\n",
            "\u001b[0;32m/usr/local/lib/python3.7/dist-packages/ipykernel/kernelbase.py\u001b[0m in \u001b[0;36m_input_request\u001b[0;34m(self, prompt, ident, parent, password)\u001b[0m\n\u001b[1;32m    902\u001b[0m             \u001b[0;32mexcept\u001b[0m \u001b[0mKeyboardInterrupt\u001b[0m\u001b[0;34m:\u001b[0m\u001b[0;34m\u001b[0m\u001b[0;34m\u001b[0m\u001b[0m\n\u001b[1;32m    903\u001b[0m                 \u001b[0;31m# re-raise KeyboardInterrupt, to truncate traceback\u001b[0m\u001b[0;34m\u001b[0m\u001b[0;34m\u001b[0m\u001b[0;34m\u001b[0m\u001b[0m\n\u001b[0;32m--> 904\u001b[0;31m                 \u001b[0;32mraise\u001b[0m \u001b[0mKeyboardInterrupt\u001b[0m\u001b[0;34m(\u001b[0m\u001b[0;34m\"Interrupted by user\"\u001b[0m\u001b[0;34m)\u001b[0m \u001b[0;32mfrom\u001b[0m \u001b[0;32mNone\u001b[0m\u001b[0;34m\u001b[0m\u001b[0;34m\u001b[0m\u001b[0m\n\u001b[0m\u001b[1;32m    905\u001b[0m             \u001b[0;32mexcept\u001b[0m \u001b[0mException\u001b[0m \u001b[0;32mas\u001b[0m \u001b[0me\u001b[0m\u001b[0;34m:\u001b[0m\u001b[0;34m\u001b[0m\u001b[0;34m\u001b[0m\u001b[0m\n\u001b[1;32m    906\u001b[0m                 \u001b[0mself\u001b[0m\u001b[0;34m.\u001b[0m\u001b[0mlog\u001b[0m\u001b[0;34m.\u001b[0m\u001b[0mwarning\u001b[0m\u001b[0;34m(\u001b[0m\u001b[0;34m\"Invalid Message:\"\u001b[0m\u001b[0;34m,\u001b[0m \u001b[0mexc_info\u001b[0m\u001b[0;34m=\u001b[0m\u001b[0;32mTrue\u001b[0m\u001b[0;34m)\u001b[0m\u001b[0;34m\u001b[0m\u001b[0;34m\u001b[0m\u001b[0m\n",
            "\u001b[0;31mKeyboardInterrupt\u001b[0m: Interrupted by user"
          ]
        }
      ]
    },
    {
      "cell_type": "markdown",
      "metadata": {
        "id": "5Q2uHy0LY3od"
      },
      "source": [
        "Problem8. (9 points) Write a program with **while** loop to create the multiplication table (from 1 to 10) of the given number by the user.\n",
        "\n",
        "  Գրել ծրագիր **while** ցիկլով, որը կտպի օգտատիրոջ կողմից տրված թվի բազմապատկման աղյուսակը (թիվը բազմապատկած 1-ից 10 ամբողջ թվերով)։ Օրինակ՝ 2 թվի համար կլինի\n",
        "\n",
        "  `2 x 1 = 2`\n",
        "\n",
        "  `2 x 2 = 4`\n",
        "\n",
        "  `2 x 3 = 6`\n",
        "\n",
        "  `...`\n",
        "\n",
        "  `2 x 10 = 20`\n",
        "\n"
      ]
    },
    {
      "cell_type": "code",
      "metadata": {
        "id": "jTHfgLx8Y3uR",
        "colab": {
          "base_uri": "https://localhost:8080/"
        },
        "outputId": "1f0b679a-bf97-4920-d068-9c141f2cfad8"
      },
      "source": [
        "num= int(input(\"Enter number: \"))\n",
        "i=1\n",
        "while i<=10:\n",
        "  print(num,\"*\",i,\"=\",num*i)\n",
        "  i+=1\n"
      ],
      "execution_count": 24,
      "outputs": [
        {
          "output_type": "stream",
          "name": "stdout",
          "text": [
            "Enter number: 3\n",
            "3 * 1 = 3\n",
            "3 * 2 = 6\n",
            "3 * 3 = 9\n",
            "3 * 4 = 12\n",
            "3 * 5 = 15\n",
            "3 * 6 = 18\n",
            "3 * 7 = 21\n",
            "3 * 8 = 24\n",
            "3 * 9 = 27\n",
            "3 * 10 = 30\n"
          ]
        }
      ]
    },
    {
      "cell_type": "markdown",
      "metadata": {
        "id": "htmsWR2NZtlP"
      },
      "source": [
        "## for loop"
      ]
    },
    {
      "cell_type": "markdown",
      "metadata": {
        "id": "47iO-RfmZtsK"
      },
      "source": [
        "Problem9. (9 points) Write a program that uses a for loop to print the numbers 100, 98, 96, . . . , 4, 2.\n",
        "\n",
        "  Գրել ծրագիր, որը օգտագործելով **for** ցիկլ կտպի թվերի հետևյալ հաջորդականությունը 100, 98, 96, . . . , 4, 2․"
      ]
    },
    {
      "cell_type": "code",
      "metadata": {
        "id": "t1aU-LZrZtxF",
        "colab": {
          "base_uri": "https://localhost:8080/"
        },
        "outputId": "1097bddc-f3fb-4467-e1e6-5d9758184750"
      },
      "source": [
        "for i in range(100, 0, -2):\n",
        "  print(i)\n"
      ],
      "execution_count": 28,
      "outputs": [
        {
          "output_type": "stream",
          "name": "stdout",
          "text": [
            "100\n",
            "98\n",
            "96\n",
            "94\n",
            "92\n",
            "90\n",
            "88\n",
            "86\n",
            "84\n",
            "82\n",
            "80\n",
            "78\n",
            "76\n",
            "74\n",
            "72\n",
            "70\n",
            "68\n",
            "66\n",
            "64\n",
            "62\n",
            "60\n",
            "58\n",
            "56\n",
            "54\n",
            "52\n",
            "50\n",
            "48\n",
            "46\n",
            "44\n",
            "42\n",
            "40\n",
            "38\n",
            "36\n",
            "34\n",
            "32\n",
            "30\n",
            "28\n",
            "26\n",
            "24\n",
            "22\n",
            "20\n",
            "18\n",
            "16\n",
            "14\n",
            "12\n",
            "10\n",
            "8\n",
            "6\n",
            "4\n",
            "2\n"
          ]
        }
      ]
    },
    {
      "cell_type": "markdown",
      "metadata": {
        "id": "OQ5QTqmrZxbV"
      },
      "source": [
        "Problem10. (9 points) Write a program that asks the user for their name and how many times to print it. The program\n",
        "should print out the user's name the specified number of times on the same line separated with a space.\n",
        "\n",
        "  Գրել ծրագիր, որը կվերցնի օգտատիրոջ անունը և մի թիվ, որը կներկայացնի թե քանի անգամ պետք է տպել այդ անունը։ Ծրագիրը պետք է տպի այդ անունը նշված քանակությամբ նույն տողում (բացատով առանձնացված)։"
      ]
    },
    {
      "cell_type": "code",
      "metadata": {
        "id": "-2gUnWUnZxfl",
        "colab": {
          "base_uri": "https://localhost:8080/"
        },
        "outputId": "034ad443-d961-4915-9879-ff6ee681f568"
      },
      "source": [
        "name=input(\"What's your name? \")\n",
        "n=int(input(\"How many times do you want it to be printed? \"))\n",
        "for i in range (n):\n",
        "  print(name, '\\t', end='')"
      ],
      "execution_count": 44,
      "outputs": [
        {
          "output_type": "stream",
          "name": "stdout",
          "text": [
            "What's your name? Lilith\n",
            "How many times do you want it to be printed? 5\n",
            "Lilith \tLilith \tLilith \tLilith \tLilith \t"
          ]
        }
      ]
    },
    {
      "cell_type": "markdown",
      "metadata": {
        "id": "S74SK5tHZxj5"
      },
      "source": [
        "Problem11. (9 points) The Fibonacci numbers are the sequence below, where the first two numbers are 1, and each\n",
        "number thereafter is the sum of the two preceding numbers. Write a program that asks the\n",
        "user how many Fibonacci numbers to print and then prints that many.\n",
        "\n",
        "  Ֆիբոնաչիի թվերի հաջորդականությունը այնպիսին է, որ առաջին երկու թվերը 1 են, իսկ մնացած թվերը ստացվում ենք նախորդ երկուսի գումարից։ Գրել ծրագիր, որը տպում է օգտատիրոջ կողմից նշված քանակությամբ ֆիբոնաչիի հաջորդականության թվեր առանձնացված ստորակետով, օրինակ՝ 11-ի համար կլինի այսպես․ \n",
        "$$1, 1, 2, 3, 5, 8, 13, 21, 34, 55, 89$$"
      ]
    },
    {
      "cell_type": "code",
      "metadata": {
        "id": "Jce7Z8LAZxnr",
        "colab": {
          "base_uri": "https://localhost:8080/"
        },
        "outputId": "0db11586-9cd6-4390-e7b3-14a62392900f"
      },
      "source": [
        "numbers = eval(input('Enter the number:'))\n",
        "last_number = 1\n",
        "pre_last = 0\n",
        "x = 1\n",
        "for i in range(numbers):\n",
        "  print(x, end=',')\n",
        "  x = pre_last + last_number\n",
        "  pre_last, last_number = last_number, x"
      ],
      "execution_count": 46,
      "outputs": [
        {
          "output_type": "stream",
          "name": "stdout",
          "text": [
            "Enter the number:5\n",
            "1,1,2,3,5,"
          ]
        }
      ]
    },
    {
      "cell_type": "markdown",
      "metadata": {
        "id": "chqWLQtkZxro"
      },
      "source": [
        "Problem12. (9 points) Write a program that asks the user to enter a value $n$, and then prints the value for $1+\\frac{1}{2}+\\frac{1}{3}+\\ldots+\\frac{1}{n}$. \n",
        "\n",
        "  Գրել ծրագիր, որը օգտատիրոջ կողմից մուտքագրված $n$-ի համար կհաշվի հետևյալ արտահայտությունը $1+\\frac{1}{2}+\\frac{1}{3}+\\ldots+\\frac{1}{n}$ և կտպի ստացված արժեքը։\n"
      ]
    },
    {
      "cell_type": "code",
      "metadata": {
        "id": "9zb_Cd3FZ9Ra",
        "colab": {
          "base_uri": "https://localhost:8080/"
        },
        "outputId": "fa5b9da6-4eb3-4bef-d43d-c0a29bf5d0fd"
      },
      "source": [
        "n=int(input(\"n=\"))\n",
        "total=1\n",
        "for i in range (2, n+1):\n",
        "  total+=1/i\n",
        "print(total)"
      ],
      "execution_count": 50,
      "outputs": [
        {
          "output_type": "stream",
          "name": "stdout",
          "text": [
            "n=3\n",
            "1.8333333333333333\n"
          ]
        }
      ]
    },
    {
      "cell_type": "markdown",
      "metadata": {
        "id": "gM-DuhoCZ9WE"
      },
      "source": [
        "-Problem13. (9 points) Write a program to compute the sum $1-2+3-4+\\ldots+1999-2000$ using a **for** loop.\n",
        "\n",
        "  Գրել ծրագիր, որը կհաշվի հետևյալ գումարը $1-2+3-4+\\ldots+1999-2000$ օգտագործելով **for** ցիկլը։"
      ]
    },
    {
      "cell_type": "code",
      "metadata": {
        "id": "xkuGxtT8Z9an",
        "colab": {
          "base_uri": "https://localhost:8080/"
        },
        "outputId": "7171cbab-eba7-41a6-f03d-351d85b0aa30"
      },
      "source": [
        "total=0\n",
        "for i in range(1, 2000, 2):\n",
        "  total+=i\n",
        "for i in range(2, 2001, 2):\n",
        "  total-=i\n",
        "print(total)"
      ],
      "execution_count": 53,
      "outputs": [
        {
          "output_type": "stream",
          "name": "stdout",
          "text": [
            "-1000\n"
          ]
        }
      ]
    }
  ]
}