{
  "nbformat": 4,
  "nbformat_minor": 0,
  "metadata": {
    "colab": {
      "provenance": [],
      "include_colab_link": true
    },
    "kernelspec": {
      "name": "python3",
      "display_name": "Python 3"
    }
  },
  "cells": [
    {
      "cell_type": "markdown",
      "metadata": {
        "id": "view-in-github",
        "colab_type": "text"
      },
      "source": [
        "<a href=\"https://colab.research.google.com/github/excellence-center-1/Lilith-Asatrian/blob/main/Copy_of_HW2_Data_Structures.ipynb\" target=\"_parent\"><img src=\"https://colab.research.google.com/assets/colab-badge.svg\" alt=\"Open In Colab\"/></a>"
      ]
    },
    {
      "cell_type": "markdown",
      "metadata": {
        "id": "GCEodKTbRd_r"
      },
      "source": [
        "# Homework Exercises"
      ]
    },
    {
      "cell_type": "markdown",
      "metadata": {
        "id": "sM2FU5TVqX3l"
      },
      "source": [
        "## Strings"
      ]
    },
    {
      "cell_type": "markdown",
      "metadata": {
        "id": "1WbPDB3mI7MO"
      },
      "source": [
        "1. Write a program that asks the user to enter a string. The program should then print the\n",
        "following:\n",
        "\n",
        "  * The total number of characters in the string\n",
        "  * The string repeated 10 times\n",
        "  * The first character of the string \n",
        "  * The first three characters of the string\n",
        "  * The last three characters of the string\n",
        "  * The string backwards\n",
        "\n",
        "  Գրել ծրագիր, որը օգտատիրոջ մուտքագրած տեքստի (string) համար կտպի հետևյալը․\n",
        "\n",
        "  * Ընդհանուր սիմվոլների քանակը\n",
        "  * տեքստը 10 անգամ կրկնած\n",
        "  * առաջին անդամը\n",
        "  * առաջին 3 անդամները\n",
        "  * վերջին 3 անդամները\n",
        "  * տեսքտը հակառակ շրջած"
      ]
    },
    {
      "cell_type": "code",
      "metadata": {
        "id": "TXQRhmFoI6-z"
      },
      "source": [],
      "execution_count": null,
      "outputs": []
    },
    {
      "cell_type": "markdown",
      "metadata": {
        "id": "hfFxrQ4YI6v7"
      },
      "source": [
        "2. Using for loop iterate through the string `Hello world` and count the number of 'l's in it.\n",
        "\n",
        "  Անցնել `Hello world` տեքստի վրայով և հաշվել դրա մեջ `l` տառի հաճախականությունը՝ օգտագործելով for ցիկլ։"
      ]
    },
    {
      "cell_type": "code",
      "metadata": {
        "id": "PoLfgh08VSHZ"
      },
      "source": [],
      "execution_count": null,
      "outputs": []
    },
    {
      "cell_type": "markdown",
      "metadata": {
        "id": "Qk-vQlp1VSPk"
      },
      "source": [
        "3. Write a program that asks the user for a string and creates a new string that doubles each character of the original string. For instance, if the user enters `Hello`, the output should be `HHeelllloo`.\n",
        "\n",
        "  Գրել ծրագիր, որը վերցնում է օգտատիրոջ կողմից մուտքագրված տեքստը և պատրաստում է նոր տեքստ, որի մեջ գրված են մուտքագրված բառի տառերը կրկնապատկված։ Օրինակ՝ `Hello` բառի համար կվերադարձնի `HHeelllloo`։"
      ]
    },
    {
      "cell_type": "code",
      "metadata": {
        "id": "Egenwe06VSWV"
      },
      "source": [],
      "execution_count": null,
      "outputs": []
    },
    {
      "cell_type": "markdown",
      "metadata": {
        "id": "ZCBZc1U1VSb7"
      },
      "source": [
        "4. Write a program that asks a user for their name and prints it in the following way:\n",
        "\n",
        "  `A Ar Arm Arme Armen`.\n",
        "\n",
        "  Hint: use a for loop.\n",
        "\n",
        "  Գրել ծրագիր, որը վերցնում է օգտատիրոջ անունը և տպում է այն հետևյալ կերպ․\n",
        "\n",
        "  `A Ar Arm Arme Armen`\n",
        "\n",
        "  Հուշում․ օգտագործել for ցիկլ։"
      ]
    },
    {
      "cell_type": "code",
      "metadata": {
        "id": "vK_7hQuuVSha"
      },
      "source": [],
      "execution_count": null,
      "outputs": []
    },
    {
      "cell_type": "markdown",
      "metadata": {
        "id": "RsjwjrDfVtAR"
      },
      "source": [
        "5. Write a program that removes all capitalization and common punctuation (`,.;:-?!()\\'\"`) from a\n",
        "string `s`.\n",
        "\n",
        "  Գրել ծրագիր, որը դարձնում է `s` տեքստի մեծատառերը՝ փոքրատառ և ջնջում է տեքստում առկա հետևյալ կետադրական նշանները՝ `,.;:-?!()\\'\"`։"
      ]
    },
    {
      "cell_type": "code",
      "metadata": {
        "id": "WmpM4SyDVtF4",
        "colab": {
          "base_uri": "https://localhost:8080/"
        },
        "outputId": "b4caa970-6a7d-42f4-9bb4-7f4053aa478a"
      },
      "source": [],
      "execution_count": null,
      "outputs": [
        {
          "output_type": "stream",
          "name": "stdout",
          "text": [
            "Write a text\n",
            ";:-?!()Ani;:-?!()\n",
            "ani\n"
          ]
        }
      ]
    },
    {
      "cell_type": "markdown",
      "metadata": {
        "id": "KgF5uPuhVtLl"
      },
      "source": [
        "6. Write a program that, given a string that contains a decimal number, prints out the\n",
        "decimal part of the number. For instance, if given `3.14159`, the program should print out `.14159`.\n",
        "\n",
        "  Գրել ծրագիր, որը վերցնում է տասնորդական թիվ՝ որպես տեքստ և տպում է դրա տասնորդական կարգը, այսինքն՝ օրինակ  `3.14159`-ի համար ծրագիրը պետք է տպի `.14159`։"
      ]
    },
    {
      "cell_type": "code",
      "metadata": {
        "id": "0gH3y-Q2VSnR"
      },
      "source": [],
      "execution_count": null,
      "outputs": []
    },
    {
      "cell_type": "markdown",
      "metadata": {
        "id": "3HEZ6dl0ekny"
      },
      "source": [
        "7. A simple way to estimate the number of words in a string is to count the number of spaces\n",
        "in the string. Write a program that asks the user for a string and returns an estimate of how\n",
        "many words are in the string.\n",
        "\n",
        "  Տեքստի մեջ բառերի քանակը մոտավոր հաշվելու պարզագույն եղանակը տեքստում բացատների քանակը հաշվելն է։ Գրել ծրագիր, որը կտպի բացատների քանակը՝ օգտատիրոջ կողմից մուտքագրված տեքստում։ "
      ]
    },
    {
      "cell_type": "code",
      "metadata": {
        "id": "AgRYItgXek22"
      },
      "source": [],
      "execution_count": null,
      "outputs": []
    },
    {
      "cell_type": "markdown",
      "metadata": {
        "id": "_OkxDUHEI6kS"
      },
      "source": [
        "8. Write a program that asks the user to enter a string `s` and then converts `s` to lowercase, removes\n",
        "all the `periods` (.) and `commas` (,) from `s`, and prints the resulting string.\n",
        "\n",
        "  Գրել ծրագիր, որը օգտատիրոջից վերցնում է տեքստ, դարձնում այն փոքրատառ, վերացնում վերջակետերն (.) ու ստորակետերը (,) և տպում ստացված տեքստը։"
      ]
    },
    {
      "cell_type": "code",
      "metadata": {
        "id": "cTN0Ve60jEqT"
      },
      "source": [],
      "execution_count": null,
      "outputs": []
    },
    {
      "cell_type": "markdown",
      "metadata": {
        "id": "xlBkRh2dVHWo"
      },
      "source": [
        "9. Write a program that asks the user to enter a word and determines whether the word is a\n",
        "`palindrome` or not. A palindrome is a word that reads the same backwards as forwards.\n",
        "\n",
        "  Գրել ծրագիր, որը օտատիրոջից վերցնում է մեկ բառ և ստուգում է արդյոք այդ բառը պալինդրոմ է, թե՝ ոչ։ Պալինդրոմ են անվանում այն բառերին, որոնք սկբից և վերջից կարդալիս նույնն են։ Օրինակ՝ ապա, Աննա, ահա, աբբգգբբա։ Բառերը կարող են իմաստ չունենալ։  \n",
        "\n"
      ]
    },
    {
      "cell_type": "code",
      "metadata": {
        "id": "TwvYtVrAVHbQ",
        "colab": {
          "base_uri": "https://localhost:8080/",
          "height": 35
        },
        "outputId": "8106757c-3d6e-4515-c668-ff1f3235b9f5"
      },
      "source": [],
      "execution_count": null,
      "outputs": [
        {
          "output_type": "execute_result",
          "data": {
            "text/plain": [
              "'asa'"
            ],
            "application/vnd.google.colaboratory.intrinsic+json": {
              "type": "string"
            }
          },
          "metadata": {},
          "execution_count": 9
        }
      ]
    },
    {
      "cell_type": "markdown",
      "metadata": {
        "id": "32hdDmh3VHfY"
      },
      "source": [
        "10. Write a program that asks the user for their name and then generates the email written below for that person.\n",
        "\n",
        "  Գրել ծրագիր, որը հարցնում է օգտատիրոջ անուն, ազգանունը և տպում այդ օգտատիրոջ համար հետևյալ նամակը։ \n",
        "\n",
        "  \"Dear **Name Surname**,\n",
        "  \n",
        "  I am pleased to offer you our new special product. **Name**, you may not get such an offer every day, so I would like to ask you to call\n",
        "now. We cannot offer such a low\n",
        "rate for long, **Name**, so please call as soon as possible.\" "
      ]
    },
    {
      "cell_type": "code",
      "metadata": {
        "id": "8OmuGQjqVHjn",
        "colab": {
          "base_uri": "https://localhost:8080/",
          "height": 35
        },
        "outputId": "788b4e2e-9848-4b63-c82e-f852b9469410"
      },
      "source": [
        "a = \"asdsad\"\n",
        "s = f\"asd {a}\"\n",
        "s"
      ],
      "execution_count": null,
      "outputs": [
        {
          "output_type": "execute_result",
          "data": {
            "text/plain": [
              "'asd asdsad'"
            ],
            "application/vnd.google.colaboratory.intrinsic+json": {
              "type": "string"
            }
          },
          "metadata": {},
          "execution_count": 11
        }
      ]
    },
    {
      "cell_type": "markdown",
      "metadata": {
        "id": "_wOptjGTqTFC"
      },
      "source": [
        "## Lists"
      ]
    },
    {
      "cell_type": "markdown",
      "metadata": {
        "id": "2cUNMzReV_fd"
      },
      "source": [
        "11. Write a program that removes the repeated items from a list and leaves only the unique values in the initial order.\n",
        "\n",
        "  Գրել ծրագիր, որը կվերադարձնի list-ի յուրաքանչյուր տարր առանց կրկնության։"
      ]
    },
    {
      "cell_type": "code",
      "metadata": {
        "id": "ylT4vZLWV_pO"
      },
      "source": [],
      "execution_count": null,
      "outputs": []
    },
    {
      "cell_type": "markdown",
      "metadata": {
        "id": "CIc1nNl8V_vm"
      },
      "source": [
        "12. Write a program that counts the number of occurances of each item in the list. \n",
        "\n",
        "  Գրել ծրագիր, որը կհաշվի list-ի տարրերի հաճախականությունները։"
      ]
    },
    {
      "cell_type": "code",
      "metadata": {
        "id": "nn4LVRfSV_0t"
      },
      "source": [],
      "execution_count": null,
      "outputs": []
    },
    {
      "cell_type": "markdown",
      "metadata": {
        "id": "aO1ojeTnWEpt"
      },
      "source": [
        "13. Write a program that generates a list of 50 random numbers between 1 and 100. Count how many items in the list are greater than 50.\n",
        "\n",
        "  Գրել ծրագիր, որը կստեղծի 50 պատահական ամբողջ թիվ 1-100 միջակայքից և կհաշվի 50-ից մեծ թվերի քանակը։"
      ]
    },
    {
      "cell_type": "code",
      "metadata": {
        "id": "RziUX7kRWEwq"
      },
      "source": [],
      "execution_count": null,
      "outputs": []
    },
    {
      "cell_type": "markdown",
      "metadata": {
        "id": "YxseNPKzWE1L"
      },
      "source": [
        "14. Write a program that prints out the \n",
        "* total number of elements\n",
        "* sum of all elements\n",
        "* two largest and two smallest elements \n",
        "\n",
        "of a list entered by the user.\n",
        "\n",
        "  Գրել ծրագիր, որը կտպի օգտատիրոջ կողմից մուտքագրված list-ի\n",
        "  * ընդհանուր էլեմենտների քանակը\n",
        "  * բոլոր էլեմենտների գումարը\n",
        "  * երկու ամենամեծ և ամենափոքր տարրերը"
      ]
    },
    {
      "cell_type": "code",
      "metadata": {
        "id": "wzI_x4u_WE_w"
      },
      "source": [],
      "execution_count": null,
      "outputs": []
    },
    {
      "cell_type": "markdown",
      "metadata": {
        "id": "YUaFYy8OIHWp"
      },
      "source": [
        "15. Write a program that generates a list of 20 random numbers between 1 and 100.\n",
        "  * Print the list.\n",
        "  * Print the average of the elements in the list.\n",
        "  * Print the largest and smallest values in the list.\n",
        "  * Print the second largest and second smallest entries in the list\n",
        "  * Print how many even numbers are in the list.\n",
        "\n",
        "  Գրել ծրագիր, որը կստեղծի 1-100 միջակայքից 20 պատահական ամբողջ թվեր պարունակող list և կտպի\n",
        "  * այդ list-ը \n",
        "  * list-ի թվաբանական միջինը\n",
        "  * մեծագույն և փոքրագուն թվերը\n",
        "  * երկրորդ ամենամեծ և ամենափոքր թվերը\n",
        "  * զույգ թվերի քանակը"
      ]
    },
    {
      "cell_type": "code",
      "metadata": {
        "id": "xrSVUy31IHeV"
      },
      "source": [],
      "execution_count": null,
      "outputs": []
    },
    {
      "cell_type": "markdown",
      "metadata": {
        "id": "FgcH-562IHlB"
      },
      "source": [
        "16. Ask the user to enter a list containing numbers between 1 and 12. Then replace all of the\n",
        "entries in the list that are greater than 8 with 8 And prints the resulting list.\n",
        "\n",
        "  Գրել ծրագիր, որը վերցնում է օգտատիրոջ կողմից մուտքագրված 1-ից 12 ամբողջ թվեր, փոխարինում 8-ից մեծ թվերը 8-ով և տպում է ստացված list-ը։"
      ]
    },
    {
      "cell_type": "code",
      "metadata": {
        "id": "KMqAiNsGIHsU"
      },
      "source": [],
      "execution_count": null,
      "outputs": []
    },
    {
      "cell_type": "markdown",
      "metadata": {
        "id": "IicCIcQvIHxY"
      },
      "source": [
        "17. Ask the user to enter a list of strings. Create a new list that consists of those strings with their\n",
        "first characters removed.\n",
        "\n",
        "  Օգտատիրոջ կողմից պետք է մուտքագրվի string-ների list, այնուհետև պահանջվում է ստեղծել նոր list, որտեղ կլինեն նույն string-ները, բայց առանց առաջին սիմվոլի։ Օրինակ՝ \n",
        "  `['!dog', '+cat']` $\\to$ `['dog', 'cat']`"
      ]
    },
    {
      "cell_type": "code",
      "metadata": {
        "id": "gW2JdxzWIH4g"
      },
      "source": [],
      "execution_count": null,
      "outputs": []
    },
    {
      "cell_type": "markdown",
      "metadata": {
        "id": "MEC70di4IH_O"
      },
      "source": [
        "18. Write a program that generates 100 random integers that are either 0 or 1. Then find the largest number of zeros in a row. For instance, the longest run of\n",
        "zeros in `[1,0,1,1,0,0,0,0,1,0,0]` is 4. \n",
        "\n",
        "  Գրել ծրագիր, որը կստեղծի 100 պատահական 0-ներ և 1-եր, ապա կհաշվի թե ամենաշատը քանի իրար հաջորդող 0-ներ կան տվյալ list-ի մեջ։ Օրինակ՝ այս դեպքում `[1,0,1,1,0,0,0,0,1,0,0]` այդ թիվը կլինի 4-ը.  "
      ]
    },
    {
      "cell_type": "code",
      "metadata": {
        "id": "wU6-9X9zIIFe"
      },
      "source": [],
      "execution_count": null,
      "outputs": []
    },
    {
      "cell_type": "markdown",
      "metadata": {
        "id": "DX4939I0Kdqt"
      },
      "source": [
        "19. Create the following lists using list comprehension.\n",
        "\n",
        "  * A list consisting of the even integers 0 through 49\n",
        "  * A list containing the squares of the integers 1 through 50 that are divisible by 3.\n",
        "\n",
        "  Ստեղծել հետևյալ list-երը օգտագործելով list comprehension մեթոդը։\n",
        "\n",
        "  * 0-ից 49 զույգ ամբողջ թվերը\n",
        "  * 1-ից 50 ամողջ թվերից 3-ի բաժանվողների քառակուսիները"
      ]
    },
    {
      "cell_type": "code",
      "metadata": {
        "id": "bAKqzpv6KfDJ"
      },
      "source": [],
      "execution_count": null,
      "outputs": []
    },
    {
      "cell_type": "markdown",
      "metadata": {
        "id": "NKP8JTNb6z5P"
      },
      "source": [
        "# Dictionaries, Tuples, Sets"
      ]
    },
    {
      "cell_type": "markdown",
      "metadata": {
        "id": "ms2qt7pe6wKD"
      },
      "source": [
        "20. Write a program that uses a dictionary that contains ten user names and passwords. The\n",
        "program should ask the user to enter their username and password. If the username is not in\n",
        "the dictionary, the program should indicate that the person is not a valid user of the system. If\n",
        "the username is in the dictionary, but the user does not enter the right password, the program\n",
        "should say that the password is invalid. If the password is correct, then the program should\n",
        "tell the user that they are now logged in to the system.\n",
        "\n",
        "  Գրել ծրագիր, որը օգտագործում է dictionary, որպեսզի պահի 10 օգտատերերի հաշվիների անունները և գաղտնաբառերը։ Ծրագիրը օգտատիրոջից պահանջում է մուտքագրել անունը և գաղտնաբառը, որոնց չհամընկնելու դեպքում ծրագիրը պետք է տեղեկացնի դրա մասին նշելով թե որ ինչը չի համընկել․ անունը թե գաղտնաբառը։ Եթե գաղտնաբառը ճիշտ է, ապա ծրագիրը պետք է հայտնի, որ օգտատերը արդեն մուտք է գործել համակարգ։"
      ]
    },
    {
      "cell_type": "code",
      "metadata": {
        "id": "HpvGvAxs6yzr",
        "outputId": "c891b573-c122-407b-8509-b20d33083893",
        "colab": {
          "base_uri": "https://localhost:8080/"
        }
      },
      "source": [
        "my_dict={'Armen_user': '111111', \n",
        "   'Arman_user': '123123', \n",
        "   'Arsen_user': '12345678', \n",
        "   'Adam_user': 'jesus', \n",
        "   'Gor_user': 'letmein', \n",
        "   'Vahag_user': 'password1', \n",
        "   'Steven_user': 'asdf', \n",
        "   'Artur_user': 'qwerty', \n",
        "   'Areg_user': 'trustno1',\n",
        "   'David_user': 'dragon'\n",
        "   }\n",
        "username=input(\"Your username is: \")\n",
        "if username in my_dict:\n",
        "  password=input(\"Your password is: \")\n",
        "  if my_dict[username]==password:\n",
        "    print(\"You are now logged into the system.\")\n",
        "  else:\n",
        "    print(\"Invalid password\")\n",
        "else:\n",
        "  print(\"Not a valid user\")\n",
        "    \n",
        "\n"
      ],
      "execution_count": null,
      "outputs": [
        {
          "output_type": "stream",
          "name": "stdout",
          "text": [
            "Your username is: Adam_user\n",
            "Your password is: jey\n",
            "Invalid password\n"
          ]
        }
      ]
    },
    {
      "cell_type": "markdown",
      "metadata": {
        "id": "otpqwn7s67XR"
      },
      "source": [
        "21. Repeatedly ask the user to enter a team name and the how many games the team won and\n",
        "how many they lost. Store this information in a dictionary where the keys are the team names\n",
        "and the values are tuples of the form (wins, losses). Using the dictionary created above,\n",
        "\n",
        "  1. allow the user to enter a team name and print out\n",
        "the team's winning percentage.\n",
        "  2. create a list whose entries are the number of wins of each team.\n",
        "  3. print the name of the team with the most number of losses.\n",
        "\n",
        "  Գրել ծրագիր, որը կվերցնի օգտատիրոջից ինչ-որ թիմի անուն և տեղեկատվություն այդ թիմի հաղթանակների և պարտությունների քանակների մասին։ Տվյալները պետք է պահել dictionary-ի մեջ, որտեղ բանալիները կլինեն մուտքագրված թիմերի անունները, իսկ արժեքները կլինեն (հաղթանակներ, պարտություններ) ֆորմատով tuple: Օգտագործելով վերոնշյալ dictionary-ն\n",
        "  \n",
        "  1. տպել օգտատիրոջ կողմից նշված թիմի հաղթանակների տոկոսը։ \n",
        "  2. ստեղծել list, որի տարրերը կլինեն յուրաքանչյուր թիմի հաղթանակների քանակները։\n",
        "  3. տպել ամենաշատը պարտված թիմի անունը։"
      ]
    },
    {
      "cell_type": "code",
      "metadata": {
        "id": "hBhvQFQM67h_",
        "outputId": "6e5114af-cb49-4615-cf7f-c335473984fc",
        "colab": {
          "base_uri": "https://localhost:8080/"
        }
      },
      "source": [
        "my_dicti={}\n",
        "my_list=[]\n",
        "other_list=[]\n",
        "num=int(input(\"How many teams are there? \"))\n",
        "for i in range(num):\n",
        "  name=input(\"The team name is: \")\n",
        "  wins=int(input(\"The number of wins is: \"))\n",
        "  loses=int(input(\"The number of loses is: \"))\n",
        "  my_dicti[name]=(wins, loses)\n",
        "  my_list+=[wins]\n",
        "  other_list+=[loses]\n",
        "team=input(\"Team name you want to know winning percentage of: \")\n",
        "print (\"The winning percentage of\", team , \"is\", (my_dicti[team][0]/sum(my_dicti[team]))*100, \"%.\")\n",
        "print(\"List of wins: \", my_list)\n",
        "other_list.sort()\n",
        "for k in my_dicti:\n",
        "  if other_list[-1]==my_dicti[k][1]:\n",
        "    print(\"The most loses has:\", k)\n",
        "\n"
      ],
      "execution_count": 16,
      "outputs": [
        {
          "output_type": "stream",
          "name": "stdout",
          "text": [
            "How many teams are there? 3\n",
            "The team name is: Zimbabwe\n",
            "The number of wins is: 3\n",
            "The number of loses is: 1\n",
            "The team name is: Tanzania\n",
            "The number of wins is: 4\n",
            "The number of loses is: 0\n",
            "The team name is: Kenya\n",
            "The number of wins is: 2\n",
            "The number of loses is: 2\n",
            "Team name you want to know winning percentage of: Kenya\n",
            "The winning percentage of Kenya is 50.0 %.\n",
            "List of wins:  [3, 4, 2]\n",
            "The most loses has: Kenya\n"
          ]
        }
      ]
    },
    {
      "cell_type": "markdown",
      "metadata": {
        "id": "fPmRTK6w67nC"
      },
      "source": [
        "22. Repeatedly ask the user to enter game scores in a format like `team1 score1 - team2 score2`. Store\n",
        "this information in a dictionary where the keys are the team names and the values are tuples of\n",
        "the form (wins, losses).\n",
        "\n",
        "  Գրել ծրագիր, որը օգտատիրոջից վերցնում է խաղերի հաշվի տեղեկատվություն հետևյալ ֆորմատով՝ `team1 score1 - team2 score2` և ստեղծում է dictionary-ի, որտեղ բանալիները կլինեն թիմերի անունները, իսկ արժեքները կլինեն tuple-ներ՝ հաղթանակների և պարտությունների քանակներից կազմված։"
      ]
    },
    {
      "cell_type": "code",
      "metadata": {
        "id": "vfNjpUUk67sA",
        "colab": {
          "base_uri": "https://localhost:8080/"
        },
        "outputId": "05b98a75-a5f9-45ce-e731-4c0f98a42baa"
      },
      "source": [
        "num = int(input(\"Enter the number of matches: \"))\n",
        "results = {}\n",
        "for i in range(num):\n",
        "  team1, score1, __, team2, score2 = input(\"Enter the game results: \").split()\n",
        "  res1, res2 = ((1, 0), (0, 1)) if int(score1) > int(score2) else ((0, 1), (1, 0))\n",
        "  if team1 not in results:\n",
        "    results[team1] = res1\n",
        "  else:\n",
        "    updated = (results[team1][0] + res1[0], results[team1][1] + res1[1])\n",
        "    results[team1] = updated\n",
        "\n",
        "  if team2 not in results:\n",
        "    results[team2] = res2\n",
        "  else:\n",
        "    updated = (results[team2][0] + res2[0], results[team2][1] + res2[1])\n",
        "    results[team2] = updated\n",
        "print(results)\n",
        "   "
      ],
      "execution_count": 24,
      "outputs": [
        {
          "output_type": "stream",
          "name": "stdout",
          "text": [
            "Enter the number of matches: 2\n",
            "Enter the game results: Kenya 2 - Marocco 3\n",
            "Enter the game results: Zimbabwe 4 - Tanzania 3\n",
            "{'Kenya': (0, 1), 'Marocco': (1, 0), 'Zimbabwe': (1, 0), 'Tanzania': (0, 1)}\n"
          ]
        }
      ]
    },
    {
      "cell_type": "markdown",
      "metadata": {
        "id": "4Wh2rYRD67ww"
      },
      "source": [
        "23.  Create a $5 \\times 5$ list of numbers. Then write a program that creates a dictionary whose keys are\n",
        "the numbers and whose values are the how many times the number occurs. Then print the three most common numbers.\n",
        "\n",
        "  Ստեղծել $5 \\times 5$ չափսի մատրից (list-երի list), այնուհետև ստեղծել dictionary, որտեղ բանալիները կլինեն մատրիցի թվերը, իսկ արժեքները կլինեն այդ թվերի հաճախականությունները (քանի անգամ են հանդիպում) այդ մատրիցի մեջ։ Տպել 3 ամենաշատ հանդիպող թվերը։\n"
      ]
    },
    {
      "cell_type": "code",
      "metadata": {
        "id": "OhCE05K4671x",
        "colab": {
          "base_uri": "https://localhost:8080/"
        },
        "outputId": "c92b9ace-d764-4b86-9349-e8fc97389951"
      },
      "source": [
        "llist=[[1,2,3,4,5],\n",
        "       [2,3,4,5,6],\n",
        "       [6,7,8,9,10],\n",
        "       [11,12,13,14,15],\n",
        "       [11,11,12,12,15]]\n",
        "ll=[item for sublist in llist for item in sublist]\n",
        "max = 0\n",
        "maxitem = None\n",
        "for x in range(3):\n",
        "  for i in set(ll):\n",
        "    count =  ll.count(i)\n",
        "    if count > max:\n",
        "      max = count\n",
        "      maxitem = i\n",
        "  print(maxitem)\n",
        "ll.remove(maxitem)\n",
        "ddict={key:ll.count(key) for key in ll}\n",
        "print(ddict)\n",
        "\n",
        "\n",
        "\n"
      ],
      "execution_count": 35,
      "outputs": [
        {
          "output_type": "stream",
          "name": "stdout",
          "text": [
            "11\n",
            "11\n",
            "11\n",
            "{1: 1, 2: 2, 3: 2, 4: 2, 5: 2, 6: 2, 7: 1, 8: 1, 9: 1, 10: 1, 12: 3, 13: 1, 14: 1, 15: 2, 11: 2}\n"
          ]
        }
      ]
    },
    {
      "cell_type": "markdown",
      "metadata": {
        "id": "7zQ_28J07RVg"
      },
      "source": [
        "24. Write a program that reads through the given list of dictionaries and prints the following:\n",
        "  1. All the users whose phone number ends in an 8\n",
        "  2. All the users that don't have an email address listed\n",
        "\n",
        "  Գրել ծրագիր, որը կմշակի տրված list-ը և կտպի հետևյալը․\n",
        "  1. Բոլոր օգտատերերի անունները՝ ում հեռախոսի համարը վերջանում է 8-ով\n",
        "  2. Բոլոր օգտատերերի անունները՝ ովքեր չունեն կցված email հասցե։\n",
        "\n"
      ]
    },
    {
      "cell_type": "code",
      "metadata": {
        "id": "4CPu6-m87UQj"
      },
      "source": [
        "d = [{'name':'Todd', 'phone':'555-1414', 'email':'todd@mail.net'},\n",
        "    {'name':'Helga', 'phone':'555-1618', 'email':'helga@mail.net'},\n",
        "    {'name':'Princess', 'phone':'555-3141', 'email':''},\n",
        "    {'name':'LJ', 'phone':'555-2718', 'email':'lj@mail.net'}]\n",
        "\n",
        "\n",
        "\n"
      ],
      "execution_count": null,
      "outputs": []
    },
    {
      "cell_type": "markdown",
      "metadata": {
        "id": "6WjRITsC7V95"
      },
      "source": [
        "25. Write a program that prints the unique even numbers from a given tuple by the user with the help of set properties.\n",
        "\n",
        "  Գրել ծրագիր, որը կտպի օգտատիրոջ կողմից մուտքագրված tuple-ի զույգ թվերը (առանց կրկնության) oգտվելով set-երի հատկությունից։ "
      ]
    },
    {
      "cell_type": "code",
      "metadata": {
        "id": "vAxnEan27ZjH"
      },
      "source": [],
      "execution_count": null,
      "outputs": []
    }
  ]
}